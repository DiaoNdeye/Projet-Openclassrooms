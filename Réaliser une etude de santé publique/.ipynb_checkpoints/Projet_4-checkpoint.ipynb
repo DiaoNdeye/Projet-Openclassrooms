{
 "cells": [
  {
   "cell_type": "code",
   "execution_count": 6,
   "id": "0ff8daea",
   "metadata": {},
   "outputs": [],
   "source": [
    "import pandas as pd \n",
    "import numpy as np\n",
    "import matplotlib.pyplot as plt"
   ]
  },
  {
   "cell_type": "code",
   "execution_count": 7,
   "id": "ce425fbd",
   "metadata": {},
   "outputs": [
    {
     "ename": "FileNotFoundError",
     "evalue": "[Errno 2] No such file or directory: 'population.csv'",
     "output_type": "error",
     "traceback": [
      "\u001b[0;31m---------------------------------------------------------------------------\u001b[0m",
      "\u001b[0;31mFileNotFoundError\u001b[0m                         Traceback (most recent call last)",
      "\u001b[0;32m/var/folders/w7/6rt7vbvd7bqbx0q2zdmnfvm40000gn/T/ipykernel_50882/1005739583.py\u001b[0m in \u001b[0;36m<module>\u001b[0;34m\u001b[0m\n\u001b[0;32m----> 1\u001b[0;31m \u001b[0mdf_pop\u001b[0m\u001b[0;34m=\u001b[0m\u001b[0mpd\u001b[0m\u001b[0;34m.\u001b[0m\u001b[0mread_csv\u001b[0m\u001b[0;34m(\u001b[0m\u001b[0;34m\"population.csv\"\u001b[0m\u001b[0;34m)\u001b[0m\u001b[0;34m\u001b[0m\u001b[0;34m\u001b[0m\u001b[0m\n\u001b[0m\u001b[1;32m      2\u001b[0m \u001b[0mdf\u001b[0m\u001b[0;34m=\u001b[0m\u001b[0mpd\u001b[0m\u001b[0;34m.\u001b[0m\u001b[0mread_csv\u001b[0m\u001b[0;34m(\u001b[0m\u001b[0;34m\"sous_nutrition.csv\"\u001b[0m\u001b[0;34m)\u001b[0m\u001b[0;34m\u001b[0m\u001b[0;34m\u001b[0m\u001b[0m\n\u001b[1;32m      3\u001b[0m \u001b[0mdf_dispo_A\u001b[0m\u001b[0;34m=\u001b[0m\u001b[0mpd\u001b[0m\u001b[0;34m.\u001b[0m\u001b[0mread_csv\u001b[0m\u001b[0;34m(\u001b[0m\u001b[0;34m\"dispo_alimentaire.csv\"\u001b[0m\u001b[0;34m)\u001b[0m\u001b[0;34m\u001b[0m\u001b[0;34m\u001b[0m\u001b[0m\n\u001b[1;32m      4\u001b[0m \u001b[0mdf_aideA\u001b[0m\u001b[0;34m=\u001b[0m\u001b[0mpd\u001b[0m\u001b[0;34m.\u001b[0m\u001b[0mread_csv\u001b[0m\u001b[0;34m(\u001b[0m\u001b[0;34m\"aide_alimentaire.csv\"\u001b[0m\u001b[0;34m)\u001b[0m\u001b[0;34m\u001b[0m\u001b[0;34m\u001b[0m\u001b[0m\n\u001b[1;32m      5\u001b[0m \u001b[0;34m\u001b[0m\u001b[0m\n",
      "\u001b[0;32m~/Library/Python/3.8/lib/python/site-packages/pandas/util/_decorators.py\u001b[0m in \u001b[0;36mwrapper\u001b[0;34m(*args, **kwargs)\u001b[0m\n\u001b[1;32m    309\u001b[0m                     \u001b[0mstacklevel\u001b[0m\u001b[0;34m=\u001b[0m\u001b[0mstacklevel\u001b[0m\u001b[0;34m,\u001b[0m\u001b[0;34m\u001b[0m\u001b[0;34m\u001b[0m\u001b[0m\n\u001b[1;32m    310\u001b[0m                 )\n\u001b[0;32m--> 311\u001b[0;31m             \u001b[0;32mreturn\u001b[0m \u001b[0mfunc\u001b[0m\u001b[0;34m(\u001b[0m\u001b[0;34m*\u001b[0m\u001b[0margs\u001b[0m\u001b[0;34m,\u001b[0m \u001b[0;34m**\u001b[0m\u001b[0mkwargs\u001b[0m\u001b[0;34m)\u001b[0m\u001b[0;34m\u001b[0m\u001b[0;34m\u001b[0m\u001b[0m\n\u001b[0m\u001b[1;32m    312\u001b[0m \u001b[0;34m\u001b[0m\u001b[0m\n\u001b[1;32m    313\u001b[0m         \u001b[0;32mreturn\u001b[0m \u001b[0mwrapper\u001b[0m\u001b[0;34m\u001b[0m\u001b[0;34m\u001b[0m\u001b[0m\n",
      "\u001b[0;32m~/Library/Python/3.8/lib/python/site-packages/pandas/io/parsers/readers.py\u001b[0m in \u001b[0;36mread_csv\u001b[0;34m(filepath_or_buffer, sep, delimiter, header, names, index_col, usecols, squeeze, prefix, mangle_dupe_cols, dtype, engine, converters, true_values, false_values, skipinitialspace, skiprows, skipfooter, nrows, na_values, keep_default_na, na_filter, verbose, skip_blank_lines, parse_dates, infer_datetime_format, keep_date_col, date_parser, dayfirst, cache_dates, iterator, chunksize, compression, thousands, decimal, lineterminator, quotechar, quoting, doublequote, escapechar, comment, encoding, encoding_errors, dialect, error_bad_lines, warn_bad_lines, on_bad_lines, delim_whitespace, low_memory, memory_map, float_precision, storage_options)\u001b[0m\n\u001b[1;32m    584\u001b[0m     \u001b[0mkwds\u001b[0m\u001b[0;34m.\u001b[0m\u001b[0mupdate\u001b[0m\u001b[0;34m(\u001b[0m\u001b[0mkwds_defaults\u001b[0m\u001b[0;34m)\u001b[0m\u001b[0;34m\u001b[0m\u001b[0;34m\u001b[0m\u001b[0m\n\u001b[1;32m    585\u001b[0m \u001b[0;34m\u001b[0m\u001b[0m\n\u001b[0;32m--> 586\u001b[0;31m     \u001b[0;32mreturn\u001b[0m \u001b[0m_read\u001b[0m\u001b[0;34m(\u001b[0m\u001b[0mfilepath_or_buffer\u001b[0m\u001b[0;34m,\u001b[0m \u001b[0mkwds\u001b[0m\u001b[0;34m)\u001b[0m\u001b[0;34m\u001b[0m\u001b[0;34m\u001b[0m\u001b[0m\n\u001b[0m\u001b[1;32m    587\u001b[0m \u001b[0;34m\u001b[0m\u001b[0m\n\u001b[1;32m    588\u001b[0m \u001b[0;34m\u001b[0m\u001b[0m\n",
      "\u001b[0;32m~/Library/Python/3.8/lib/python/site-packages/pandas/io/parsers/readers.py\u001b[0m in \u001b[0;36m_read\u001b[0;34m(filepath_or_buffer, kwds)\u001b[0m\n\u001b[1;32m    480\u001b[0m \u001b[0;34m\u001b[0m\u001b[0m\n\u001b[1;32m    481\u001b[0m     \u001b[0;31m# Create the parser.\u001b[0m\u001b[0;34m\u001b[0m\u001b[0;34m\u001b[0m\u001b[0;34m\u001b[0m\u001b[0m\n\u001b[0;32m--> 482\u001b[0;31m     \u001b[0mparser\u001b[0m \u001b[0;34m=\u001b[0m \u001b[0mTextFileReader\u001b[0m\u001b[0;34m(\u001b[0m\u001b[0mfilepath_or_buffer\u001b[0m\u001b[0;34m,\u001b[0m \u001b[0;34m**\u001b[0m\u001b[0mkwds\u001b[0m\u001b[0;34m)\u001b[0m\u001b[0;34m\u001b[0m\u001b[0;34m\u001b[0m\u001b[0m\n\u001b[0m\u001b[1;32m    483\u001b[0m \u001b[0;34m\u001b[0m\u001b[0m\n\u001b[1;32m    484\u001b[0m     \u001b[0;32mif\u001b[0m \u001b[0mchunksize\u001b[0m \u001b[0;32mor\u001b[0m \u001b[0miterator\u001b[0m\u001b[0;34m:\u001b[0m\u001b[0;34m\u001b[0m\u001b[0;34m\u001b[0m\u001b[0m\n",
      "\u001b[0;32m~/Library/Python/3.8/lib/python/site-packages/pandas/io/parsers/readers.py\u001b[0m in \u001b[0;36m__init__\u001b[0;34m(self, f, engine, **kwds)\u001b[0m\n\u001b[1;32m    809\u001b[0m             \u001b[0mself\u001b[0m\u001b[0;34m.\u001b[0m\u001b[0moptions\u001b[0m\u001b[0;34m[\u001b[0m\u001b[0;34m\"has_index_names\"\u001b[0m\u001b[0;34m]\u001b[0m \u001b[0;34m=\u001b[0m \u001b[0mkwds\u001b[0m\u001b[0;34m[\u001b[0m\u001b[0;34m\"has_index_names\"\u001b[0m\u001b[0;34m]\u001b[0m\u001b[0;34m\u001b[0m\u001b[0;34m\u001b[0m\u001b[0m\n\u001b[1;32m    810\u001b[0m \u001b[0;34m\u001b[0m\u001b[0m\n\u001b[0;32m--> 811\u001b[0;31m         \u001b[0mself\u001b[0m\u001b[0;34m.\u001b[0m\u001b[0m_engine\u001b[0m \u001b[0;34m=\u001b[0m \u001b[0mself\u001b[0m\u001b[0;34m.\u001b[0m\u001b[0m_make_engine\u001b[0m\u001b[0;34m(\u001b[0m\u001b[0mself\u001b[0m\u001b[0;34m.\u001b[0m\u001b[0mengine\u001b[0m\u001b[0;34m)\u001b[0m\u001b[0;34m\u001b[0m\u001b[0;34m\u001b[0m\u001b[0m\n\u001b[0m\u001b[1;32m    812\u001b[0m \u001b[0;34m\u001b[0m\u001b[0m\n\u001b[1;32m    813\u001b[0m     \u001b[0;32mdef\u001b[0m \u001b[0mclose\u001b[0m\u001b[0;34m(\u001b[0m\u001b[0mself\u001b[0m\u001b[0;34m)\u001b[0m\u001b[0;34m:\u001b[0m\u001b[0;34m\u001b[0m\u001b[0;34m\u001b[0m\u001b[0m\n",
      "\u001b[0;32m~/Library/Python/3.8/lib/python/site-packages/pandas/io/parsers/readers.py\u001b[0m in \u001b[0;36m_make_engine\u001b[0;34m(self, engine)\u001b[0m\n\u001b[1;32m   1038\u001b[0m             )\n\u001b[1;32m   1039\u001b[0m         \u001b[0;31m# error: Too many arguments for \"ParserBase\"\u001b[0m\u001b[0;34m\u001b[0m\u001b[0;34m\u001b[0m\u001b[0;34m\u001b[0m\u001b[0m\n\u001b[0;32m-> 1040\u001b[0;31m         \u001b[0;32mreturn\u001b[0m \u001b[0mmapping\u001b[0m\u001b[0;34m[\u001b[0m\u001b[0mengine\u001b[0m\u001b[0;34m]\u001b[0m\u001b[0;34m(\u001b[0m\u001b[0mself\u001b[0m\u001b[0;34m.\u001b[0m\u001b[0mf\u001b[0m\u001b[0;34m,\u001b[0m \u001b[0;34m**\u001b[0m\u001b[0mself\u001b[0m\u001b[0;34m.\u001b[0m\u001b[0moptions\u001b[0m\u001b[0;34m)\u001b[0m  \u001b[0;31m# type: ignore[call-arg]\u001b[0m\u001b[0;34m\u001b[0m\u001b[0;34m\u001b[0m\u001b[0m\n\u001b[0m\u001b[1;32m   1041\u001b[0m \u001b[0;34m\u001b[0m\u001b[0m\n\u001b[1;32m   1042\u001b[0m     \u001b[0;32mdef\u001b[0m \u001b[0m_failover_to_python\u001b[0m\u001b[0;34m(\u001b[0m\u001b[0mself\u001b[0m\u001b[0;34m)\u001b[0m\u001b[0;34m:\u001b[0m\u001b[0;34m\u001b[0m\u001b[0;34m\u001b[0m\u001b[0m\n",
      "\u001b[0;32m~/Library/Python/3.8/lib/python/site-packages/pandas/io/parsers/c_parser_wrapper.py\u001b[0m in \u001b[0;36m__init__\u001b[0;34m(self, src, **kwds)\u001b[0m\n\u001b[1;32m     49\u001b[0m \u001b[0;34m\u001b[0m\u001b[0m\n\u001b[1;32m     50\u001b[0m         \u001b[0;31m# open handles\u001b[0m\u001b[0;34m\u001b[0m\u001b[0;34m\u001b[0m\u001b[0;34m\u001b[0m\u001b[0m\n\u001b[0;32m---> 51\u001b[0;31m         \u001b[0mself\u001b[0m\u001b[0;34m.\u001b[0m\u001b[0m_open_handles\u001b[0m\u001b[0;34m(\u001b[0m\u001b[0msrc\u001b[0m\u001b[0;34m,\u001b[0m \u001b[0mkwds\u001b[0m\u001b[0;34m)\u001b[0m\u001b[0;34m\u001b[0m\u001b[0;34m\u001b[0m\u001b[0m\n\u001b[0m\u001b[1;32m     52\u001b[0m         \u001b[0;32massert\u001b[0m \u001b[0mself\u001b[0m\u001b[0;34m.\u001b[0m\u001b[0mhandles\u001b[0m \u001b[0;32mis\u001b[0m \u001b[0;32mnot\u001b[0m \u001b[0;32mNone\u001b[0m\u001b[0;34m\u001b[0m\u001b[0;34m\u001b[0m\u001b[0m\n\u001b[1;32m     53\u001b[0m \u001b[0;34m\u001b[0m\u001b[0m\n",
      "\u001b[0;32m~/Library/Python/3.8/lib/python/site-packages/pandas/io/parsers/base_parser.py\u001b[0m in \u001b[0;36m_open_handles\u001b[0;34m(self, src, kwds)\u001b[0m\n\u001b[1;32m    220\u001b[0m         \u001b[0mLet\u001b[0m \u001b[0mthe\u001b[0m \u001b[0mreaders\u001b[0m \u001b[0mopen\u001b[0m \u001b[0mIOHandles\u001b[0m \u001b[0mafter\u001b[0m \u001b[0mthey\u001b[0m \u001b[0mare\u001b[0m \u001b[0mdone\u001b[0m \u001b[0;32mwith\u001b[0m \u001b[0mtheir\u001b[0m \u001b[0mpotential\u001b[0m \u001b[0mraises\u001b[0m\u001b[0;34m.\u001b[0m\u001b[0;34m\u001b[0m\u001b[0;34m\u001b[0m\u001b[0m\n\u001b[1;32m    221\u001b[0m         \"\"\"\n\u001b[0;32m--> 222\u001b[0;31m         self.handles = get_handle(\n\u001b[0m\u001b[1;32m    223\u001b[0m             \u001b[0msrc\u001b[0m\u001b[0;34m,\u001b[0m\u001b[0;34m\u001b[0m\u001b[0;34m\u001b[0m\u001b[0m\n\u001b[1;32m    224\u001b[0m             \u001b[0;34m\"r\"\u001b[0m\u001b[0;34m,\u001b[0m\u001b[0;34m\u001b[0m\u001b[0;34m\u001b[0m\u001b[0m\n",
      "\u001b[0;32m~/Library/Python/3.8/lib/python/site-packages/pandas/io/common.py\u001b[0m in \u001b[0;36mget_handle\u001b[0;34m(path_or_buf, mode, encoding, compression, memory_map, is_text, errors, storage_options)\u001b[0m\n\u001b[1;32m    700\u001b[0m         \u001b[0;32mif\u001b[0m \u001b[0mioargs\u001b[0m\u001b[0;34m.\u001b[0m\u001b[0mencoding\u001b[0m \u001b[0;32mand\u001b[0m \u001b[0;34m\"b\"\u001b[0m \u001b[0;32mnot\u001b[0m \u001b[0;32min\u001b[0m \u001b[0mioargs\u001b[0m\u001b[0;34m.\u001b[0m\u001b[0mmode\u001b[0m\u001b[0;34m:\u001b[0m\u001b[0;34m\u001b[0m\u001b[0;34m\u001b[0m\u001b[0m\n\u001b[1;32m    701\u001b[0m             \u001b[0;31m# Encoding\u001b[0m\u001b[0;34m\u001b[0m\u001b[0;34m\u001b[0m\u001b[0;34m\u001b[0m\u001b[0m\n\u001b[0;32m--> 702\u001b[0;31m             handle = open(\n\u001b[0m\u001b[1;32m    703\u001b[0m                 \u001b[0mhandle\u001b[0m\u001b[0;34m,\u001b[0m\u001b[0;34m\u001b[0m\u001b[0;34m\u001b[0m\u001b[0m\n\u001b[1;32m    704\u001b[0m                 \u001b[0mioargs\u001b[0m\u001b[0;34m.\u001b[0m\u001b[0mmode\u001b[0m\u001b[0;34m,\u001b[0m\u001b[0;34m\u001b[0m\u001b[0;34m\u001b[0m\u001b[0m\n",
      "\u001b[0;31mFileNotFoundError\u001b[0m: [Errno 2] No such file or directory: 'population.csv'"
     ]
    }
   ],
   "source": [
    "df_pop=pd.read_csv(\"population.csv\")\n",
    "df=pd.read_csv(\"sous_nutrition.csv\")\n",
    "df_dispo_A=pd.read_csv(\"dispo_alimentaire.csv\")\n",
    "df_aideA=pd.read_csv(\"aide_alimentaire.csv\")\n",
    "\n"
   ]
  },
  {
   "cell_type": "markdown",
   "id": "872ab42a",
   "metadata": {},
   "source": [
    "## 1/ Proportion de personnes en etat de sous nutrition \n",
    "\n"
   ]
  },
  {
   "cell_type": "code",
   "execution_count": null,
   "id": "29c1b1b1",
   "metadata": {},
   "outputs": [],
   "source": [
    "#jointure des deux fichiers(sous_nutrition et population)\n",
    "df1=df.merge(df_pop,on='Zone')\n",
    "\n",
    "#tel que année egale 2017\n",
    "df1=df1[df1[\"Année_x\"]==\"2016-2018\"]\n",
    "df1=df1[df1[\"Année_y\"]==2017]\n",
    "df1=df1[df1['Valeur_x']!='<0.1']\n",
    "\n",
    "#calcul la somme sous nutrition\n",
    "sum_nutrition=df1[\"Valeur_x\"].astype(float).sum()\n",
    "\n",
    "#calcul la somme population mondiale 2017\n",
    "sum_mondial=df1[\"Valeur_y\"].sum()\n",
    "df_proportion=round(((sum_nutrition*1000000)/(sum_mondial*1000))*100,2)\n",
    "\n",
    "print(\"Proportion de personnes en état de sous nutrition est de {} %\".format(df_proportion))\n",
    "\n",
    "\n",
    "\n",
    "\n",
    "\n",
    "\n",
    "\n"
   ]
  },
  {
   "cell_type": "markdown",
   "id": "06fb5402",
   "metadata": {},
   "source": [
    "## 2/ Nombre theorique de personnes qui pourraient être nourries (disponibilité alimentaire )"
   ]
  },
  {
   "cell_type": "code",
   "execution_count": null,
   "id": "6281168a",
   "metadata": {},
   "outputs": [],
   "source": [
    "#calcul somme disponibilité alimentaire parpersonne par année/personne\n",
    "test1=(df_dispo_A.groupby(by=['Zone'])[['Disponibilité alimentaire (Kcal/personne/jour)']].sum()*365).reset_index()\n",
    "\n",
    "#calcul dispo total du pays \n",
    "test1=test1.merge(df_pop,on='Zone')\n",
    "test1=test1[test1[\"Année\"]==2017]\n",
    "test1[\"dispo\"]=test1[\"Disponibilité alimentaire (Kcal/personne/jour)\"]*test1[\"Valeur\"]*1000\n",
    "\n",
    "#calcul en besoin d'aliment par an/kcal/pays\n",
    "test1[\"besoin\"]=test1[\"Valeur\"]*2500*365*1000\n",
    "test1\n",
    "\n",
    "#coefficient de disponibilité\n",
    "coef=test1[\"dispo\"].sum()/test1[\"besoin\"].sum()\n",
    "nbr_personne=round(coef*sum_mondial*1000/1e9,2)\n",
    "pourcentage=round(coef*100,2)\n",
    "\n",
    "print(\"Le nombre theorique de personnes qui pourraient être nourries {} milliard\".format(nbr_personne),\n",
    "      \"soit {} % de la population mondiale\".format(pourcentage))"
   ]
  },
  {
   "cell_type": "markdown",
   "id": "2629cfe5",
   "metadata": {},
   "source": [
    "## 3/ Nombre theorique de personnes qui pourraient être nourries (produits vegetaux )"
   ]
  },
  {
   "cell_type": "code",
   "execution_count": null,
   "id": "0ff21d8b",
   "metadata": {},
   "outputs": [],
   "source": [
    "# filtre des produits vegetaux\n",
    "df_vegetal=df_dispo_A[df_dispo_A[\"Origine\"]==\"vegetale\"]\n",
    "\n",
    "#calcul disponibilité alimentaire par personne par année/personne\n",
    "test2=(df_vegetal.groupby(by=['Zone'])[['Disponibilité alimentaire (Kcal/personne/jour)']].sum()*365).reset_index()\n",
    "\n",
    "#calcul dispo total du pays \n",
    "test2=test2.merge(df_pop,on='Zone')\n",
    "test2=test2[test2[\"Année\"]==2017]\n",
    "test2[\"dispo\"]=test2[\"Disponibilité alimentaire (Kcal/personne/jour)\"]*test2[\"Valeur\"]*1000\n",
    "\n",
    "#calcul en besoin d'aliment par an/kcal/pays\n",
    "test2[\"besoin\"]=test2[\"Valeur\"]*2500*365*1000\n",
    "\n",
    "#coeficien de disponibilité\n",
    "coef=test2[\"dispo\"].sum()/test2[\"besoin\"].sum()\n",
    "nbr_pers=round(coef*sum_mondial*1000/1e9,2)\n",
    "pourcentage=round(coef*100,2)\n",
    "print(\"Le nombre theorique de personnes qui pourraient être nourries {} milliard\".format(nbr_pers),\n",
    "      \"soit {} % de la population mondiale\".format(pourcentage))\n",
    "\n",
    "\n",
    "\n"
   ]
  },
  {
   "cell_type": "markdown",
   "id": "0bf8bb7f",
   "metadata": {},
   "source": [
    "## 4/ L’utilisation de la disponibilité intérieure, en particulier la part qui est attribuée à l’alimentation animale, celle qui est perdue et celle qui est concrètement utilisée pour l'alimentation humaine."
   ]
  },
  {
   "cell_type": "code",
   "execution_count": null,
   "id": "4fe8dbc6",
   "metadata": {},
   "outputs": [],
   "source": [
    "#calcul de la somme disponibilité interieur \n",
    "sum_dispo_int=df_dispo_A[\"Disponibilité intérieure\"].sum()\n",
    "\n",
    "#calcul disponibilité alimentaire humaine\n",
    "df_dispo_b=df_dispo_A.copy().fillna(0)\n",
    "df_dispo_b['Disponibilité Alimentaire humaine']=df_dispo_b['Disponibilité intérieure']-df_dispo_b['Aliments pour animaux']-df_dispo_b['Autres Utilisations']-df_dispo_b['Pertes']-df_dispo_b['Semences']-df_dispo_b['Traitement']\n",
    "\n",
    "df_part=pd.DataFrame(columns=[\"Part\",\"Pourcentage\"])\n",
    "for x in [\"Pertes\",\"Aliments pour animaux\",\"Disponibilité Alimentaire humaine\"]:\n",
    "    somme=df_dispo_b[x].sum()\n",
    "    pourcentage=round(somme/sum_dispo_int*100,2)\n",
    "    df_part=df_part.append({\"Part\": x,\n",
    "                           \"Pourcentage\": pourcentage},ignore_index=True)\n",
    "    \n",
    "df_part"
   ]
  },
  {
   "cell_type": "markdown",
   "id": "6910f1b0",
   "metadata": {},
   "source": [
    "\n",
    "\n",
    "## 5/ Les pays pour lesquels la proportion de personnes sous alimentées est la plus forte en 2017\n"
   ]
  },
  {
   "cell_type": "code",
   "execution_count": null,
   "id": "fc5d2af3",
   "metadata": {},
   "outputs": [],
   "source": [
    "df_proportion=df.merge(df_pop,on='Zone')\n",
    "df_proportion=df_proportion[df_proportion[\"Année_x\"]==\"2016-2018\"] \n",
    "df_proportion=df_proportion[df_proportion['Année_y']==2017]\n",
    "df_proportion=df_proportion[df_proportion[\"Valeur_x\"]!='<0.1']\n",
    "\n",
    "df_proportion['% Personnes sous-alimentées plus forte en 2017']=df_proportion['Valeur_x'].astype(float)*1e6/(df_proportion['Valeur_y']*1000)*100\n",
    "df_proportion=round(df_proportion.sort_values(by='% Personnes sous-alimentées plus forte en 2017',ascending=False),1)\n",
    "\n",
    "df_proportion[['Zone','% Personnes sous-alimentées plus forte en 2017']]\n",
    "\n",
    "\n"
   ]
  },
  {
   "cell_type": "markdown",
   "id": "ccbb08ea",
   "metadata": {},
   "source": [
    "## 6/ Les pays  qui ont le plus beneficié d'aide alimentaire depuis 2013"
   ]
  },
  {
   "cell_type": "code",
   "execution_count": null,
   "id": "6b676513",
   "metadata": {},
   "outputs": [],
   "source": [
    "df_aideA=df_aideA[df_aideA[\"Année\"]>=2013]\n",
    "df_ben=df_aideA.groupby(['Pays bénéficiaire'])['Valeur'].sum().sort_values(ascending=False).reset_index()\n",
    "df_ben=df_ben.rename(columns={\"Valeur\":\"Aide alimentaire (en tonne)\"})\n",
    "df_ben\n",
    "\n"
   ]
  },
  {
   "cell_type": "markdown",
   "id": "13b2161e",
   "metadata": {},
   "source": [
    "## 7/ Ceux ayant le plus/le moins de disponibilité par habitant"
   ]
  },
  {
   "cell_type": "code",
   "execution_count": null,
   "id": "058a1873",
   "metadata": {},
   "outputs": [],
   "source": [
    "#calcul somme disponibilité alimentaire parpersonne par jour/personne\n",
    "test3=df_dispo_A.groupby(by=['Zone'])[['Disponibilité alimentaire (Kcal/personne/jour)']].sum()\n",
    "test3.sort_values(\"Disponibilité alimentaire (Kcal/personne/jour)\",ascending=False).reset_index()\n",
    "\n",
    "\n",
    "\n",
    "\n",
    "\n",
    "\n",
    "\n"
   ]
  },
  {
   "cell_type": "code",
   "execution_count": null,
   "id": "2ec0845a",
   "metadata": {},
   "outputs": [],
   "source": []
  },
  {
   "cell_type": "code",
   "execution_count": null,
   "id": "dcce91f3",
   "metadata": {},
   "outputs": [],
   "source": []
  },
  {
   "cell_type": "code",
   "execution_count": null,
   "id": "63153668",
   "metadata": {},
   "outputs": [],
   "source": []
  }
 ],
 "metadata": {
  "kernelspec": {
   "display_name": "Python 3 (ipykernel)",
   "language": "python",
   "name": "python3"
  },
  "language_info": {
   "codemirror_mode": {
    "name": "ipython",
    "version": 3
   },
   "file_extension": ".py",
   "mimetype": "text/x-python",
   "name": "python",
   "nbconvert_exporter": "python",
   "pygments_lexer": "ipython3",
   "version": "3.8.2"
  }
 },
 "nbformat": 4,
 "nbformat_minor": 5
}
