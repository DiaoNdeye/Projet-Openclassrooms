{
 "cells": [
  {
   "cell_type": "code",
   "execution_count": 133,
   "id": "0ee1b29f",
   "metadata": {},
   "outputs": [],
   "source": [
    "import pandas as pd\n",
    "import numpy as np\n",
    "import seaborn as sns\n",
    "import matplotlib.pyplot as plt\n",
    "import warnings\n",
    "warnings.filterwarnings('ignore')"
   ]
  },
  {
   "cell_type": "code",
   "execution_count": 134,
   "id": "c1d53303",
   "metadata": {},
   "outputs": [],
   "source": [
    "customers=pd.read_csv(\"customers.csv\")\n",
    "product=pd.read_csv(\"products.csv\")\n",
    "transaction=pd.read_csv(\"transactions.csv\")"
   ]
  },
  {
   "cell_type": "markdown",
   "id": "789cfa08",
   "metadata": {},
   "source": [
    "# Nettoyage des données "
   ]
  },
  {
   "cell_type": "markdown",
   "id": "94dcf90a",
   "metadata": {},
   "source": [
    "## Clients"
   ]
  },
  {
   "cell_type": "markdown",
   "id": "8daa70aa",
   "metadata": {},
   "source": [
    " #### Cette table recence le sexe, la date de naissance "
   ]
  },
  {
   "cell_type": "code",
   "execution_count": 135,
   "id": "b179bc0d",
   "metadata": {},
   "outputs": [
    {
     "data": {
      "text/html": [
       "<div>\n",
       "<style scoped>\n",
       "    .dataframe tbody tr th:only-of-type {\n",
       "        vertical-align: middle;\n",
       "    }\n",
       "\n",
       "    .dataframe tbody tr th {\n",
       "        vertical-align: top;\n",
       "    }\n",
       "\n",
       "    .dataframe thead th {\n",
       "        text-align: right;\n",
       "    }\n",
       "</style>\n",
       "<table border=\"1\" class=\"dataframe\">\n",
       "  <thead>\n",
       "    <tr style=\"text-align: right;\">\n",
       "      <th></th>\n",
       "      <th>client_id</th>\n",
       "      <th>sex</th>\n",
       "      <th>birth</th>\n",
       "    </tr>\n",
       "  </thead>\n",
       "  <tbody>\n",
       "    <tr>\n",
       "      <th>0</th>\n",
       "      <td>c_4410</td>\n",
       "      <td>f</td>\n",
       "      <td>1967</td>\n",
       "    </tr>\n",
       "    <tr>\n",
       "      <th>1</th>\n",
       "      <td>c_7839</td>\n",
       "      <td>f</td>\n",
       "      <td>1975</td>\n",
       "    </tr>\n",
       "    <tr>\n",
       "      <th>2</th>\n",
       "      <td>c_1699</td>\n",
       "      <td>f</td>\n",
       "      <td>1984</td>\n",
       "    </tr>\n",
       "    <tr>\n",
       "      <th>3</th>\n",
       "      <td>c_5961</td>\n",
       "      <td>f</td>\n",
       "      <td>1962</td>\n",
       "    </tr>\n",
       "    <tr>\n",
       "      <th>4</th>\n",
       "      <td>c_5320</td>\n",
       "      <td>m</td>\n",
       "      <td>1943</td>\n",
       "    </tr>\n",
       "    <tr>\n",
       "      <th>5</th>\n",
       "      <td>c_415</td>\n",
       "      <td>m</td>\n",
       "      <td>1993</td>\n",
       "    </tr>\n",
       "    <tr>\n",
       "      <th>6</th>\n",
       "      <td>c_285</td>\n",
       "      <td>f</td>\n",
       "      <td>1967</td>\n",
       "    </tr>\n",
       "    <tr>\n",
       "      <th>7</th>\n",
       "      <td>c_160</td>\n",
       "      <td>f</td>\n",
       "      <td>1978</td>\n",
       "    </tr>\n",
       "    <tr>\n",
       "      <th>8</th>\n",
       "      <td>c_6446</td>\n",
       "      <td>m</td>\n",
       "      <td>1971</td>\n",
       "    </tr>\n",
       "    <tr>\n",
       "      <th>9</th>\n",
       "      <td>c_6866</td>\n",
       "      <td>m</td>\n",
       "      <td>1993</td>\n",
       "    </tr>\n",
       "  </tbody>\n",
       "</table>\n",
       "</div>"
      ],
      "text/plain": [
       "  client_id sex  birth\n",
       "0    c_4410   f   1967\n",
       "1    c_7839   f   1975\n",
       "2    c_1699   f   1984\n",
       "3    c_5961   f   1962\n",
       "4    c_5320   m   1943\n",
       "5     c_415   m   1993\n",
       "6     c_285   f   1967\n",
       "7     c_160   f   1978\n",
       "8    c_6446   m   1971\n",
       "9    c_6866   m   1993"
      ]
     },
     "execution_count": 135,
     "metadata": {},
     "output_type": "execute_result"
    }
   ],
   "source": [
    "customers.head(10)"
   ]
  },
  {
   "cell_type": "markdown",
   "id": "28588dcb",
   "metadata": {},
   "source": [
    "#### Verification doublons"
   ]
  },
  {
   "cell_type": "code",
   "execution_count": 136,
   "id": "15408f9c",
   "metadata": {},
   "outputs": [],
   "source": [
    "def doublons(df): # Nombre de doublons dans la dataframe\n",
    "    print(len(df) - len(df.drop_duplicates()), 'doublons')"
   ]
  },
  {
   "cell_type": "code",
   "execution_count": 137,
   "id": "51e9f7c9",
   "metadata": {},
   "outputs": [
    {
     "name": "stdout",
     "output_type": "stream",
     "text": [
      "0 doublons\n"
     ]
    }
   ],
   "source": [
    "doublons(customers)"
   ]
  },
  {
   "cell_type": "markdown",
   "id": "265e4541",
   "metadata": {},
   "source": [
    "#### Unicité de clé primaire"
   ]
  },
  {
   "cell_type": "code",
   "execution_count": 138,
   "id": "17b13cd7",
   "metadata": {},
   "outputs": [
    {
     "data": {
      "text/plain": [
       "True"
      ]
     },
     "execution_count": 138,
     "metadata": {},
     "output_type": "execute_result"
    }
   ],
   "source": [
    "customers[\"client_id\"].is_unique"
   ]
  },
  {
   "cell_type": "markdown",
   "id": "8df604d5",
   "metadata": {},
   "source": [
    "#### Les variables ne contiennent aucune valeur manquante ou aberrante"
   ]
  },
  {
   "cell_type": "code",
   "execution_count": 139,
   "id": "34ae11d1",
   "metadata": {},
   "outputs": [
    {
     "name": "stdout",
     "output_type": "stream",
     "text": [
      "<class 'pandas.core.frame.DataFrame'>\n",
      "RangeIndex: 8623 entries, 0 to 8622\n",
      "Data columns (total 3 columns):\n",
      " #   Column     Non-Null Count  Dtype \n",
      "---  ------     --------------  ----- \n",
      " 0   client_id  8623 non-null   object\n",
      " 1   sex        8623 non-null   object\n",
      " 2   birth      8623 non-null   int64 \n",
      "dtypes: int64(1), object(2)\n",
      "memory usage: 202.2+ KB\n"
     ]
    }
   ],
   "source": [
    "customers.info()"
   ]
  },
  {
   "cell_type": "markdown",
   "id": "8275fca0",
   "metadata": {},
   "source": [
    "#### La seul variable quantitative de la tables des clients , les années de naissance s'étalent de 1929 à 2004"
   ]
  },
  {
   "cell_type": "code",
   "execution_count": 140,
   "id": "736a344b",
   "metadata": {},
   "outputs": [
    {
     "data": {
      "text/html": [
       "<div>\n",
       "<style scoped>\n",
       "    .dataframe tbody tr th:only-of-type {\n",
       "        vertical-align: middle;\n",
       "    }\n",
       "\n",
       "    .dataframe tbody tr th {\n",
       "        vertical-align: top;\n",
       "    }\n",
       "\n",
       "    .dataframe thead th {\n",
       "        text-align: right;\n",
       "    }\n",
       "</style>\n",
       "<table border=\"1\" class=\"dataframe\">\n",
       "  <thead>\n",
       "    <tr style=\"text-align: right;\">\n",
       "      <th></th>\n",
       "      <th>client_id</th>\n",
       "      <th>sex</th>\n",
       "      <th>birth</th>\n",
       "    </tr>\n",
       "  </thead>\n",
       "  <tbody>\n",
       "    <tr>\n",
       "      <th>count</th>\n",
       "      <td>8623</td>\n",
       "      <td>8623</td>\n",
       "      <td>8623.000000</td>\n",
       "    </tr>\n",
       "    <tr>\n",
       "      <th>unique</th>\n",
       "      <td>8623</td>\n",
       "      <td>2</td>\n",
       "      <td>NaN</td>\n",
       "    </tr>\n",
       "    <tr>\n",
       "      <th>top</th>\n",
       "      <td>c_4410</td>\n",
       "      <td>f</td>\n",
       "      <td>NaN</td>\n",
       "    </tr>\n",
       "    <tr>\n",
       "      <th>freq</th>\n",
       "      <td>1</td>\n",
       "      <td>4491</td>\n",
       "      <td>NaN</td>\n",
       "    </tr>\n",
       "    <tr>\n",
       "      <th>mean</th>\n",
       "      <td>NaN</td>\n",
       "      <td>NaN</td>\n",
       "      <td>1978.280877</td>\n",
       "    </tr>\n",
       "    <tr>\n",
       "      <th>std</th>\n",
       "      <td>NaN</td>\n",
       "      <td>NaN</td>\n",
       "      <td>16.919535</td>\n",
       "    </tr>\n",
       "    <tr>\n",
       "      <th>min</th>\n",
       "      <td>NaN</td>\n",
       "      <td>NaN</td>\n",
       "      <td>1929.000000</td>\n",
       "    </tr>\n",
       "    <tr>\n",
       "      <th>25%</th>\n",
       "      <td>NaN</td>\n",
       "      <td>NaN</td>\n",
       "      <td>1966.000000</td>\n",
       "    </tr>\n",
       "    <tr>\n",
       "      <th>50%</th>\n",
       "      <td>NaN</td>\n",
       "      <td>NaN</td>\n",
       "      <td>1979.000000</td>\n",
       "    </tr>\n",
       "    <tr>\n",
       "      <th>75%</th>\n",
       "      <td>NaN</td>\n",
       "      <td>NaN</td>\n",
       "      <td>1992.000000</td>\n",
       "    </tr>\n",
       "    <tr>\n",
       "      <th>max</th>\n",
       "      <td>NaN</td>\n",
       "      <td>NaN</td>\n",
       "      <td>2004.000000</td>\n",
       "    </tr>\n",
       "  </tbody>\n",
       "</table>\n",
       "</div>"
      ],
      "text/plain": [
       "       client_id   sex        birth\n",
       "count       8623  8623  8623.000000\n",
       "unique      8623     2          NaN\n",
       "top       c_4410     f          NaN\n",
       "freq           1  4491          NaN\n",
       "mean         NaN   NaN  1978.280877\n",
       "std          NaN   NaN    16.919535\n",
       "min          NaN   NaN  1929.000000\n",
       "25%          NaN   NaN  1966.000000\n",
       "50%          NaN   NaN  1979.000000\n",
       "75%          NaN   NaN  1992.000000\n",
       "max          NaN   NaN  2004.000000"
      ]
     },
     "execution_count": 140,
     "metadata": {},
     "output_type": "execute_result"
    }
   ],
   "source": [
    "customers.describe(include='all')"
   ]
  },
  {
   "cell_type": "markdown",
   "id": "a10460d5",
   "metadata": {},
   "source": [
    "## Produit"
   ]
  },
  {
   "cell_type": "markdown",
   "id": "95984fa0",
   "metadata": {},
   "source": [
    "#### La table produit détaille l'identifiant, le prix et la catégorie"
   ]
  },
  {
   "cell_type": "code",
   "execution_count": 141,
   "id": "579cdb45",
   "metadata": {},
   "outputs": [
    {
     "data": {
      "text/html": [
       "<div>\n",
       "<style scoped>\n",
       "    .dataframe tbody tr th:only-of-type {\n",
       "        vertical-align: middle;\n",
       "    }\n",
       "\n",
       "    .dataframe tbody tr th {\n",
       "        vertical-align: top;\n",
       "    }\n",
       "\n",
       "    .dataframe thead th {\n",
       "        text-align: right;\n",
       "    }\n",
       "</style>\n",
       "<table border=\"1\" class=\"dataframe\">\n",
       "  <thead>\n",
       "    <tr style=\"text-align: right;\">\n",
       "      <th></th>\n",
       "      <th>id_prod</th>\n",
       "      <th>price</th>\n",
       "      <th>categ</th>\n",
       "    </tr>\n",
       "  </thead>\n",
       "  <tbody>\n",
       "    <tr>\n",
       "      <th>0</th>\n",
       "      <td>0_1421</td>\n",
       "      <td>19.99</td>\n",
       "      <td>0</td>\n",
       "    </tr>\n",
       "    <tr>\n",
       "      <th>1</th>\n",
       "      <td>0_1368</td>\n",
       "      <td>5.13</td>\n",
       "      <td>0</td>\n",
       "    </tr>\n",
       "    <tr>\n",
       "      <th>2</th>\n",
       "      <td>0_731</td>\n",
       "      <td>17.99</td>\n",
       "      <td>0</td>\n",
       "    </tr>\n",
       "    <tr>\n",
       "      <th>3</th>\n",
       "      <td>1_587</td>\n",
       "      <td>4.99</td>\n",
       "      <td>1</td>\n",
       "    </tr>\n",
       "    <tr>\n",
       "      <th>4</th>\n",
       "      <td>0_1507</td>\n",
       "      <td>3.99</td>\n",
       "      <td>0</td>\n",
       "    </tr>\n",
       "  </tbody>\n",
       "</table>\n",
       "</div>"
      ],
      "text/plain": [
       "  id_prod  price  categ\n",
       "0  0_1421  19.99      0\n",
       "1  0_1368   5.13      0\n",
       "2   0_731  17.99      0\n",
       "3   1_587   4.99      1\n",
       "4  0_1507   3.99      0"
      ]
     },
     "execution_count": 141,
     "metadata": {},
     "output_type": "execute_result"
    }
   ],
   "source": [
    "product.head()"
   ]
  },
  {
   "cell_type": "markdown",
   "id": "b78d47e1",
   "metadata": {},
   "source": [
    "#### Verification de la presence de doublons et de l'unicité de la clé primaire"
   ]
  },
  {
   "cell_type": "code",
   "execution_count": 142,
   "id": "6ed51657",
   "metadata": {},
   "outputs": [
    {
     "name": "stdout",
     "output_type": "stream",
     "text": [
      "0 doublons\n"
     ]
    }
   ],
   "source": [
    "doublons(product)"
   ]
  },
  {
   "cell_type": "code",
   "execution_count": 143,
   "id": "04c53207",
   "metadata": {},
   "outputs": [
    {
     "data": {
      "text/plain": [
       "True"
      ]
     },
     "execution_count": 143,
     "metadata": {},
     "output_type": "execute_result"
    }
   ],
   "source": [
    "product[\"id_prod\"].is_unique"
   ]
  },
  {
   "cell_type": "code",
   "execution_count": 144,
   "id": "45eaffdb",
   "metadata": {},
   "outputs": [
    {
     "name": "stdout",
     "output_type": "stream",
     "text": [
      "<class 'pandas.core.frame.DataFrame'>\n",
      "RangeIndex: 3287 entries, 0 to 3286\n",
      "Data columns (total 3 columns):\n",
      " #   Column   Non-Null Count  Dtype  \n",
      "---  ------   --------------  -----  \n",
      " 0   id_prod  3287 non-null   object \n",
      " 1   price    3287 non-null   float64\n",
      " 2   categ    3287 non-null   int64  \n",
      "dtypes: float64(1), int64(1), object(1)\n",
      "memory usage: 77.2+ KB\n"
     ]
    }
   ],
   "source": [
    "product.info() #Valeurs manquantes type de variable "
   ]
  },
  {
   "cell_type": "markdown",
   "id": "86228db9",
   "metadata": {},
   "source": [
    "#### La variable 'price' compte des prix de -1 à 300. Il faudra nettoyer les valeurs aberrantes après avoir joint les 3 tables."
   ]
  },
  {
   "cell_type": "code",
   "execution_count": 145,
   "id": "9bd58d48",
   "metadata": {},
   "outputs": [
    {
     "data": {
      "text/html": [
       "<div>\n",
       "<style scoped>\n",
       "    .dataframe tbody tr th:only-of-type {\n",
       "        vertical-align: middle;\n",
       "    }\n",
       "\n",
       "    .dataframe tbody tr th {\n",
       "        vertical-align: top;\n",
       "    }\n",
       "\n",
       "    .dataframe thead th {\n",
       "        text-align: right;\n",
       "    }\n",
       "</style>\n",
       "<table border=\"1\" class=\"dataframe\">\n",
       "  <thead>\n",
       "    <tr style=\"text-align: right;\">\n",
       "      <th></th>\n",
       "      <th>id_prod</th>\n",
       "      <th>price</th>\n",
       "      <th>categ</th>\n",
       "    </tr>\n",
       "  </thead>\n",
       "  <tbody>\n",
       "    <tr>\n",
       "      <th>count</th>\n",
       "      <td>3287</td>\n",
       "      <td>3287.000000</td>\n",
       "      <td>3287.000000</td>\n",
       "    </tr>\n",
       "    <tr>\n",
       "      <th>unique</th>\n",
       "      <td>3287</td>\n",
       "      <td>NaN</td>\n",
       "      <td>NaN</td>\n",
       "    </tr>\n",
       "    <tr>\n",
       "      <th>top</th>\n",
       "      <td>0_1421</td>\n",
       "      <td>NaN</td>\n",
       "      <td>NaN</td>\n",
       "    </tr>\n",
       "    <tr>\n",
       "      <th>freq</th>\n",
       "      <td>1</td>\n",
       "      <td>NaN</td>\n",
       "      <td>NaN</td>\n",
       "    </tr>\n",
       "    <tr>\n",
       "      <th>mean</th>\n",
       "      <td>NaN</td>\n",
       "      <td>21.856641</td>\n",
       "      <td>0.370246</td>\n",
       "    </tr>\n",
       "    <tr>\n",
       "      <th>std</th>\n",
       "      <td>NaN</td>\n",
       "      <td>29.847908</td>\n",
       "      <td>0.615387</td>\n",
       "    </tr>\n",
       "    <tr>\n",
       "      <th>min</th>\n",
       "      <td>NaN</td>\n",
       "      <td>-1.000000</td>\n",
       "      <td>0.000000</td>\n",
       "    </tr>\n",
       "    <tr>\n",
       "      <th>25%</th>\n",
       "      <td>NaN</td>\n",
       "      <td>6.990000</td>\n",
       "      <td>0.000000</td>\n",
       "    </tr>\n",
       "    <tr>\n",
       "      <th>50%</th>\n",
       "      <td>NaN</td>\n",
       "      <td>13.060000</td>\n",
       "      <td>0.000000</td>\n",
       "    </tr>\n",
       "    <tr>\n",
       "      <th>75%</th>\n",
       "      <td>NaN</td>\n",
       "      <td>22.990000</td>\n",
       "      <td>1.000000</td>\n",
       "    </tr>\n",
       "    <tr>\n",
       "      <th>max</th>\n",
       "      <td>NaN</td>\n",
       "      <td>300.000000</td>\n",
       "      <td>2.000000</td>\n",
       "    </tr>\n",
       "  </tbody>\n",
       "</table>\n",
       "</div>"
      ],
      "text/plain": [
       "       id_prod        price        categ\n",
       "count     3287  3287.000000  3287.000000\n",
       "unique    3287          NaN          NaN\n",
       "top     0_1421          NaN          NaN\n",
       "freq         1          NaN          NaN\n",
       "mean       NaN    21.856641     0.370246\n",
       "std        NaN    29.847908     0.615387\n",
       "min        NaN    -1.000000     0.000000\n",
       "25%        NaN     6.990000     0.000000\n",
       "50%        NaN    13.060000     0.000000\n",
       "75%        NaN    22.990000     1.000000\n",
       "max        NaN   300.000000     2.000000"
      ]
     },
     "execution_count": 145,
     "metadata": {},
     "output_type": "execute_result"
    }
   ],
   "source": [
    "product.describe(include='all')"
   ]
  },
  {
   "cell_type": "markdown",
   "id": "ec6769f0",
   "metadata": {},
   "source": [
    "## Transaction"
   ]
  },
  {
   "cell_type": "markdown",
   "id": "65432fb6",
   "metadata": {},
   "source": [
    "#### La table des transactions détaille la date et les identifiants de la session, du client et du produit vendu."
   ]
  },
  {
   "cell_type": "code",
   "execution_count": 146,
   "id": "de49a585",
   "metadata": {},
   "outputs": [
    {
     "data": {
      "text/html": [
       "<div>\n",
       "<style scoped>\n",
       "    .dataframe tbody tr th:only-of-type {\n",
       "        vertical-align: middle;\n",
       "    }\n",
       "\n",
       "    .dataframe tbody tr th {\n",
       "        vertical-align: top;\n",
       "    }\n",
       "\n",
       "    .dataframe thead th {\n",
       "        text-align: right;\n",
       "    }\n",
       "</style>\n",
       "<table border=\"1\" class=\"dataframe\">\n",
       "  <thead>\n",
       "    <tr style=\"text-align: right;\">\n",
       "      <th></th>\n",
       "      <th>id_prod</th>\n",
       "      <th>date</th>\n",
       "      <th>session_id</th>\n",
       "      <th>client_id</th>\n",
       "    </tr>\n",
       "  </thead>\n",
       "  <tbody>\n",
       "    <tr>\n",
       "      <th>0</th>\n",
       "      <td>0_1518</td>\n",
       "      <td>2022-05-20 13:21:29.043970</td>\n",
       "      <td>s_211425</td>\n",
       "      <td>c_103</td>\n",
       "    </tr>\n",
       "    <tr>\n",
       "      <th>1</th>\n",
       "      <td>1_251</td>\n",
       "      <td>2022-02-02 07:55:19.149409</td>\n",
       "      <td>s_158752</td>\n",
       "      <td>c_8534</td>\n",
       "    </tr>\n",
       "    <tr>\n",
       "      <th>2</th>\n",
       "      <td>0_1277</td>\n",
       "      <td>2022-06-18 15:44:33.155329</td>\n",
       "      <td>s_225667</td>\n",
       "      <td>c_6714</td>\n",
       "    </tr>\n",
       "    <tr>\n",
       "      <th>3</th>\n",
       "      <td>2_209</td>\n",
       "      <td>2021-06-24 04:19:29.835891</td>\n",
       "      <td>s_52962</td>\n",
       "      <td>c_6941</td>\n",
       "    </tr>\n",
       "    <tr>\n",
       "      <th>4</th>\n",
       "      <td>0_1509</td>\n",
       "      <td>2023-01-11 08:22:08.194479</td>\n",
       "      <td>s_325227</td>\n",
       "      <td>c_4232</td>\n",
       "    </tr>\n",
       "    <tr>\n",
       "      <th>5</th>\n",
       "      <td>0_1418</td>\n",
       "      <td>2022-10-20 15:59:16.084030</td>\n",
       "      <td>s_285425</td>\n",
       "      <td>c_1478</td>\n",
       "    </tr>\n",
       "    <tr>\n",
       "      <th>6</th>\n",
       "      <td>0_1475</td>\n",
       "      <td>2022-06-03 04:45:09.871601</td>\n",
       "      <td>s_218033</td>\n",
       "      <td>c_7782</td>\n",
       "    </tr>\n",
       "    <tr>\n",
       "      <th>7</th>\n",
       "      <td>0_2110</td>\n",
       "      <td>2021-06-26 14:48:55.311418</td>\n",
       "      <td>s_54122</td>\n",
       "      <td>c_7456</td>\n",
       "    </tr>\n",
       "    <tr>\n",
       "      <th>8</th>\n",
       "      <td>0_1156</td>\n",
       "      <td>2022-12-27 12:27:40.641366</td>\n",
       "      <td>s_318058</td>\n",
       "      <td>c_7363</td>\n",
       "    </tr>\n",
       "    <tr>\n",
       "      <th>9</th>\n",
       "      <td>1_299</td>\n",
       "      <td>2021-11-29 15:54:25.880121</td>\n",
       "      <td>s_126880</td>\n",
       "      <td>c_1847</td>\n",
       "    </tr>\n",
       "  </tbody>\n",
       "</table>\n",
       "</div>"
      ],
      "text/plain": [
       "  id_prod                        date session_id client_id\n",
       "0  0_1518  2022-05-20 13:21:29.043970   s_211425     c_103\n",
       "1   1_251  2022-02-02 07:55:19.149409   s_158752    c_8534\n",
       "2  0_1277  2022-06-18 15:44:33.155329   s_225667    c_6714\n",
       "3   2_209  2021-06-24 04:19:29.835891    s_52962    c_6941\n",
       "4  0_1509  2023-01-11 08:22:08.194479   s_325227    c_4232\n",
       "5  0_1418  2022-10-20 15:59:16.084030   s_285425    c_1478\n",
       "6  0_1475  2022-06-03 04:45:09.871601   s_218033    c_7782\n",
       "7  0_2110  2021-06-26 14:48:55.311418    s_54122    c_7456\n",
       "8  0_1156  2022-12-27 12:27:40.641366   s_318058    c_7363\n",
       "9   1_299  2021-11-29 15:54:25.880121   s_126880    c_1847"
      ]
     },
     "execution_count": 146,
     "metadata": {},
     "output_type": "execute_result"
    }
   ],
   "source": [
    "transaction.head(10)"
   ]
  },
  {
   "cell_type": "code",
   "execution_count": 147,
   "id": "68b2bd3b",
   "metadata": {},
   "outputs": [
    {
     "name": "stdout",
     "output_type": "stream",
     "text": [
      "126 doublons\n"
     ]
    }
   ],
   "source": [
    "doublons(transaction) #nombre de doublons\n",
    "transaction=transaction.drop_duplicates()"
   ]
  },
  {
   "cell_type": "code",
   "execution_count": 148,
   "id": "4f58d108",
   "metadata": {},
   "outputs": [
    {
     "data": {
      "text/html": [
       "<div>\n",
       "<style scoped>\n",
       "    .dataframe tbody tr th:only-of-type {\n",
       "        vertical-align: middle;\n",
       "    }\n",
       "\n",
       "    .dataframe tbody tr th {\n",
       "        vertical-align: top;\n",
       "    }\n",
       "\n",
       "    .dataframe thead th {\n",
       "        text-align: right;\n",
       "    }\n",
       "</style>\n",
       "<table border=\"1\" class=\"dataframe\">\n",
       "  <thead>\n",
       "    <tr style=\"text-align: right;\">\n",
       "      <th></th>\n",
       "      <th>id_prod</th>\n",
       "      <th>date</th>\n",
       "      <th>session_id</th>\n",
       "      <th>client_id</th>\n",
       "    </tr>\n",
       "  </thead>\n",
       "  <tbody>\n",
       "    <tr>\n",
       "      <th>2633</th>\n",
       "      <td>0_2245</td>\n",
       "      <td>2022-09-23 07:22:38.636773</td>\n",
       "      <td>s_272266</td>\n",
       "      <td>c_4746</td>\n",
       "    </tr>\n",
       "    <tr>\n",
       "      <th>10106</th>\n",
       "      <td>0_2245</td>\n",
       "      <td>2022-07-23 09:24:14.133889</td>\n",
       "      <td>s_242482</td>\n",
       "      <td>c_6713</td>\n",
       "    </tr>\n",
       "    <tr>\n",
       "      <th>11727</th>\n",
       "      <td>0_2245</td>\n",
       "      <td>2022-12-03 03:26:35.696673</td>\n",
       "      <td>s_306338</td>\n",
       "      <td>c_5108</td>\n",
       "    </tr>\n",
       "    <tr>\n",
       "      <th>15675</th>\n",
       "      <td>0_2245</td>\n",
       "      <td>2021-08-16 11:33:25.481411</td>\n",
       "      <td>s_76493</td>\n",
       "      <td>c_1391</td>\n",
       "    </tr>\n",
       "    <tr>\n",
       "      <th>16377</th>\n",
       "      <td>0_2245</td>\n",
       "      <td>2022-07-16 05:53:01.627491</td>\n",
       "      <td>s_239078</td>\n",
       "      <td>c_7954</td>\n",
       "    </tr>\n",
       "    <tr>\n",
       "      <th>...</th>\n",
       "      <td>...</td>\n",
       "      <td>...</td>\n",
       "      <td>...</td>\n",
       "      <td>...</td>\n",
       "    </tr>\n",
       "    <tr>\n",
       "      <th>669730</th>\n",
       "      <td>0_2245</td>\n",
       "      <td>2021-08-25 09:06:03.504061</td>\n",
       "      <td>s_80395</td>\n",
       "      <td>c_131</td>\n",
       "    </tr>\n",
       "    <tr>\n",
       "      <th>670682</th>\n",
       "      <td>0_2245</td>\n",
       "      <td>2022-03-06 19:59:19.462288</td>\n",
       "      <td>s_175311</td>\n",
       "      <td>c_4167</td>\n",
       "    </tr>\n",
       "    <tr>\n",
       "      <th>671286</th>\n",
       "      <td>0_2245</td>\n",
       "      <td>2022-05-16 11:35:20.319501</td>\n",
       "      <td>s_209381</td>\n",
       "      <td>c_4453</td>\n",
       "    </tr>\n",
       "    <tr>\n",
       "      <th>675679</th>\n",
       "      <td>0_2245</td>\n",
       "      <td>2022-02-11 09:05:43.952857</td>\n",
       "      <td>s_163405</td>\n",
       "      <td>c_1098</td>\n",
       "    </tr>\n",
       "    <tr>\n",
       "      <th>677996</th>\n",
       "      <td>0_2245</td>\n",
       "      <td>2021-12-14 22:34:54.589921</td>\n",
       "      <td>s_134446</td>\n",
       "      <td>c_4854</td>\n",
       "    </tr>\n",
       "  </tbody>\n",
       "</table>\n",
       "<p>221 rows × 4 columns</p>\n",
       "</div>"
      ],
      "text/plain": [
       "       id_prod                        date session_id client_id\n",
       "2633    0_2245  2022-09-23 07:22:38.636773   s_272266    c_4746\n",
       "10106   0_2245  2022-07-23 09:24:14.133889   s_242482    c_6713\n",
       "11727   0_2245  2022-12-03 03:26:35.696673   s_306338    c_5108\n",
       "15675   0_2245  2021-08-16 11:33:25.481411    s_76493    c_1391\n",
       "16377   0_2245  2022-07-16 05:53:01.627491   s_239078    c_7954\n",
       "...        ...                         ...        ...       ...\n",
       "669730  0_2245  2021-08-25 09:06:03.504061    s_80395     c_131\n",
       "670682  0_2245  2022-03-06 19:59:19.462288   s_175311    c_4167\n",
       "671286  0_2245  2022-05-16 11:35:20.319501   s_209381    c_4453\n",
       "675679  0_2245  2022-02-11 09:05:43.952857   s_163405    c_1098\n",
       "677996  0_2245  2021-12-14 22:34:54.589921   s_134446    c_4854\n",
       "\n",
       "[221 rows x 4 columns]"
      ]
     },
     "execution_count": 148,
     "metadata": {},
     "output_type": "execute_result"
    }
   ],
   "source": [
    "# Clé de 'id_prod' uniquement présente dans transactions\n",
    "transaction.drop(transaction[transaction['id_prod'].isin(product['id_prod'])].index) "
   ]
  },
  {
   "cell_type": "code",
   "execution_count": 149,
   "id": "32d00a36",
   "metadata": {},
   "outputs": [],
   "source": [
    "def cle_primaire(df_cle): # Vérification de la clé primaire\n",
    "  table_length = len(df_cle) - len(df_cle.drop_duplicates())\n",
    "  if table_length == 0:\n",
    "    print('Clé primaire (0 doublon)')\n",
    "  else:\n",
    "    print('Pas une clé primaire (', table_length, 'doublons )')"
   ]
  },
  {
   "cell_type": "markdown",
   "id": "eb42cd6a",
   "metadata": {},
   "source": [
    "#### La clé de transaction est composée de l'identifiant du client et la date : Deux transcations peuvent survenir au meme moment"
   ]
  },
  {
   "cell_type": "code",
   "execution_count": 150,
   "id": "9b8ea2c0",
   "metadata": {},
   "outputs": [
    {
     "name": "stdout",
     "output_type": "stream",
     "text": [
      "Clé primaire (0 doublon)\n"
     ]
    }
   ],
   "source": [
    "cle_primaire(transaction[[\"client_id\",\"date\"]])"
   ]
  },
  {
   "cell_type": "code",
   "execution_count": 151,
   "id": "f391f7a3",
   "metadata": {},
   "outputs": [
    {
     "name": "stdout",
     "output_type": "stream",
     "text": [
      "<class 'pandas.core.frame.DataFrame'>\n",
      "Int64Index: 679406 entries, 0 to 679531\n",
      "Data columns (total 4 columns):\n",
      " #   Column      Non-Null Count   Dtype \n",
      "---  ------      --------------   ----- \n",
      " 0   id_prod     679406 non-null  object\n",
      " 1   date        679406 non-null  object\n",
      " 2   session_id  679406 non-null  object\n",
      " 3   client_id   679406 non-null  object\n",
      "dtypes: object(4)\n",
      "memory usage: 42.0+ MB\n"
     ]
    }
   ],
   "source": [
    "transaction.info()"
   ]
  },
  {
   "cell_type": "markdown",
   "id": "e3a980fa",
   "metadata": {},
   "source": [
    "## Jointure"
   ]
  },
  {
   "cell_type": "markdown",
   "id": "d3bf5984",
   "metadata": {},
   "source": [
    "#### On effectue la jointure de transactions successivement sur clients et produits, en ne conservant que les clés de transactions (les clients inactifs et les produits invendus sont écartés)."
   ]
  },
  {
   "cell_type": "code",
   "execution_count": 152,
   "id": "8cc92270",
   "metadata": {},
   "outputs": [
    {
     "data": {
      "text/html": [
       "<div>\n",
       "<style scoped>\n",
       "    .dataframe tbody tr th:only-of-type {\n",
       "        vertical-align: middle;\n",
       "    }\n",
       "\n",
       "    .dataframe tbody tr th {\n",
       "        vertical-align: top;\n",
       "    }\n",
       "\n",
       "    .dataframe thead th {\n",
       "        text-align: right;\n",
       "    }\n",
       "</style>\n",
       "<table border=\"1\" class=\"dataframe\">\n",
       "  <thead>\n",
       "    <tr style=\"text-align: right;\">\n",
       "      <th></th>\n",
       "      <th>id_prod</th>\n",
       "      <th>date</th>\n",
       "      <th>session_id</th>\n",
       "      <th>client_id</th>\n",
       "      <th>sex</th>\n",
       "      <th>birth</th>\n",
       "      <th>price</th>\n",
       "      <th>categ</th>\n",
       "    </tr>\n",
       "  </thead>\n",
       "  <tbody>\n",
       "    <tr>\n",
       "      <th>0</th>\n",
       "      <td>0_1518</td>\n",
       "      <td>2022-05-20 13:21:29.043970</td>\n",
       "      <td>s_211425</td>\n",
       "      <td>c_103</td>\n",
       "      <td>f</td>\n",
       "      <td>1986</td>\n",
       "      <td>4.18</td>\n",
       "      <td>0.0</td>\n",
       "    </tr>\n",
       "    <tr>\n",
       "      <th>1</th>\n",
       "      <td>1_251</td>\n",
       "      <td>2022-02-02 07:55:19.149409</td>\n",
       "      <td>s_158752</td>\n",
       "      <td>c_8534</td>\n",
       "      <td>m</td>\n",
       "      <td>1988</td>\n",
       "      <td>15.99</td>\n",
       "      <td>1.0</td>\n",
       "    </tr>\n",
       "    <tr>\n",
       "      <th>2</th>\n",
       "      <td>0_1277</td>\n",
       "      <td>2022-06-18 15:44:33.155329</td>\n",
       "      <td>s_225667</td>\n",
       "      <td>c_6714</td>\n",
       "      <td>f</td>\n",
       "      <td>1968</td>\n",
       "      <td>7.99</td>\n",
       "      <td>0.0</td>\n",
       "    </tr>\n",
       "    <tr>\n",
       "      <th>3</th>\n",
       "      <td>2_209</td>\n",
       "      <td>2021-06-24 04:19:29.835891</td>\n",
       "      <td>s_52962</td>\n",
       "      <td>c_6941</td>\n",
       "      <td>m</td>\n",
       "      <td>2000</td>\n",
       "      <td>69.99</td>\n",
       "      <td>2.0</td>\n",
       "    </tr>\n",
       "    <tr>\n",
       "      <th>4</th>\n",
       "      <td>0_1509</td>\n",
       "      <td>2023-01-11 08:22:08.194479</td>\n",
       "      <td>s_325227</td>\n",
       "      <td>c_4232</td>\n",
       "      <td>m</td>\n",
       "      <td>1980</td>\n",
       "      <td>4.99</td>\n",
       "      <td>0.0</td>\n",
       "    </tr>\n",
       "  </tbody>\n",
       "</table>\n",
       "</div>"
      ],
      "text/plain": [
       "  id_prod                        date session_id client_id sex  birth  price  \\\n",
       "0  0_1518  2022-05-20 13:21:29.043970   s_211425     c_103   f   1986   4.18   \n",
       "1   1_251  2022-02-02 07:55:19.149409   s_158752    c_8534   m   1988  15.99   \n",
       "2  0_1277  2022-06-18 15:44:33.155329   s_225667    c_6714   f   1968   7.99   \n",
       "3   2_209  2021-06-24 04:19:29.835891    s_52962    c_6941   m   2000  69.99   \n",
       "4  0_1509  2023-01-11 08:22:08.194479   s_325227    c_4232   m   1980   4.99   \n",
       "\n",
       "   categ  \n",
       "0    0.0  \n",
       "1    1.0  \n",
       "2    0.0  \n",
       "3    2.0  \n",
       "4    0.0  "
      ]
     },
     "execution_count": 152,
     "metadata": {},
     "output_type": "execute_result"
    }
   ],
   "source": [
    "df1=transaction.merge(customers,how='left',on='client_id').merge(product,how='left', on='id_prod')\n",
    "df1.head()"
   ]
  },
  {
   "cell_type": "code",
   "execution_count": 153,
   "id": "5cada63f",
   "metadata": {},
   "outputs": [
    {
     "name": "stdout",
     "output_type": "stream",
     "text": [
      "<class 'pandas.core.frame.DataFrame'>\n",
      "Int64Index: 679406 entries, 0 to 679405\n",
      "Data columns (total 8 columns):\n",
      " #   Column      Non-Null Count   Dtype  \n",
      "---  ------      --------------   -----  \n",
      " 0   id_prod     679406 non-null  object \n",
      " 1   date        679406 non-null  object \n",
      " 2   session_id  679406 non-null  object \n",
      " 3   client_id   679406 non-null  object \n",
      " 4   sex         679406 non-null  object \n",
      " 5   birth       679406 non-null  int64  \n",
      " 6   price       679185 non-null  float64\n",
      " 7   categ       679185 non-null  float64\n",
      "dtypes: float64(2), int64(1), object(5)\n",
      "memory usage: 46.7+ MB\n"
     ]
    }
   ],
   "source": [
    "df1.info()"
   ]
  },
  {
   "cell_type": "code",
   "execution_count": 154,
   "id": "7b4203df",
   "metadata": {},
   "outputs": [
    {
     "data": {
      "text/html": [
       "<div>\n",
       "<style scoped>\n",
       "    .dataframe tbody tr th:only-of-type {\n",
       "        vertical-align: middle;\n",
       "    }\n",
       "\n",
       "    .dataframe tbody tr th {\n",
       "        vertical-align: top;\n",
       "    }\n",
       "\n",
       "    .dataframe thead th {\n",
       "        text-align: right;\n",
       "    }\n",
       "</style>\n",
       "<table border=\"1\" class=\"dataframe\">\n",
       "  <thead>\n",
       "    <tr style=\"text-align: right;\">\n",
       "      <th></th>\n",
       "      <th>id_prod</th>\n",
       "      <th>date</th>\n",
       "      <th>session_id</th>\n",
       "      <th>client_id</th>\n",
       "      <th>sex</th>\n",
       "      <th>birth</th>\n",
       "      <th>price</th>\n",
       "      <th>categ</th>\n",
       "    </tr>\n",
       "  </thead>\n",
       "  <tbody>\n",
       "    <tr>\n",
       "      <th>3019</th>\n",
       "      <td>T_0</td>\n",
       "      <td>test_2021-03-01 02:30:02.237419</td>\n",
       "      <td>s_0</td>\n",
       "      <td>ct_0</td>\n",
       "      <td>f</td>\n",
       "      <td>2001</td>\n",
       "      <td>-1.0</td>\n",
       "      <td>0.0</td>\n",
       "    </tr>\n",
       "    <tr>\n",
       "      <th>5138</th>\n",
       "      <td>T_0</td>\n",
       "      <td>test_2021-03-01 02:30:02.237425</td>\n",
       "      <td>s_0</td>\n",
       "      <td>ct_0</td>\n",
       "      <td>f</td>\n",
       "      <td>2001</td>\n",
       "      <td>-1.0</td>\n",
       "      <td>0.0</td>\n",
       "    </tr>\n",
       "    <tr>\n",
       "      <th>9668</th>\n",
       "      <td>T_0</td>\n",
       "      <td>test_2021-03-01 02:30:02.237437</td>\n",
       "      <td>s_0</td>\n",
       "      <td>ct_1</td>\n",
       "      <td>m</td>\n",
       "      <td>2001</td>\n",
       "      <td>-1.0</td>\n",
       "      <td>0.0</td>\n",
       "    </tr>\n",
       "    <tr>\n",
       "      <th>10728</th>\n",
       "      <td>T_0</td>\n",
       "      <td>test_2021-03-01 02:30:02.237436</td>\n",
       "      <td>s_0</td>\n",
       "      <td>ct_0</td>\n",
       "      <td>f</td>\n",
       "      <td>2001</td>\n",
       "      <td>-1.0</td>\n",
       "      <td>0.0</td>\n",
       "    </tr>\n",
       "    <tr>\n",
       "      <th>15292</th>\n",
       "      <td>T_0</td>\n",
       "      <td>test_2021-03-01 02:30:02.237430</td>\n",
       "      <td>s_0</td>\n",
       "      <td>ct_0</td>\n",
       "      <td>f</td>\n",
       "      <td>2001</td>\n",
       "      <td>-1.0</td>\n",
       "      <td>0.0</td>\n",
       "    </tr>\n",
       "    <tr>\n",
       "      <th>...</th>\n",
       "      <td>...</td>\n",
       "      <td>...</td>\n",
       "      <td>...</td>\n",
       "      <td>...</td>\n",
       "      <td>...</td>\n",
       "      <td>...</td>\n",
       "      <td>...</td>\n",
       "      <td>...</td>\n",
       "    </tr>\n",
       "    <tr>\n",
       "      <th>577222</th>\n",
       "      <td>T_0</td>\n",
       "      <td>test_2021-03-01 02:30:02.237424</td>\n",
       "      <td>s_0</td>\n",
       "      <td>ct_0</td>\n",
       "      <td>f</td>\n",
       "      <td>2001</td>\n",
       "      <td>-1.0</td>\n",
       "      <td>0.0</td>\n",
       "    </tr>\n",
       "    <tr>\n",
       "      <th>592959</th>\n",
       "      <td>T_0</td>\n",
       "      <td>test_2021-03-01 02:30:02.237422</td>\n",
       "      <td>s_0</td>\n",
       "      <td>ct_1</td>\n",
       "      <td>m</td>\n",
       "      <td>2001</td>\n",
       "      <td>-1.0</td>\n",
       "      <td>0.0</td>\n",
       "    </tr>\n",
       "    <tr>\n",
       "      <th>607783</th>\n",
       "      <td>T_0</td>\n",
       "      <td>test_2021-03-01 02:30:02.237412</td>\n",
       "      <td>s_0</td>\n",
       "      <td>ct_0</td>\n",
       "      <td>f</td>\n",
       "      <td>2001</td>\n",
       "      <td>-1.0</td>\n",
       "      <td>0.0</td>\n",
       "    </tr>\n",
       "    <tr>\n",
       "      <th>625936</th>\n",
       "      <td>T_0</td>\n",
       "      <td>test_2021-03-01 02:30:02.237422</td>\n",
       "      <td>s_0</td>\n",
       "      <td>ct_0</td>\n",
       "      <td>f</td>\n",
       "      <td>2001</td>\n",
       "      <td>-1.0</td>\n",
       "      <td>0.0</td>\n",
       "    </tr>\n",
       "    <tr>\n",
       "      <th>670556</th>\n",
       "      <td>T_0</td>\n",
       "      <td>test_2021-03-01 02:30:02.237449</td>\n",
       "      <td>s_0</td>\n",
       "      <td>ct_1</td>\n",
       "      <td>m</td>\n",
       "      <td>2001</td>\n",
       "      <td>-1.0</td>\n",
       "      <td>0.0</td>\n",
       "    </tr>\n",
       "  </tbody>\n",
       "</table>\n",
       "<p>74 rows × 8 columns</p>\n",
       "</div>"
      ],
      "text/plain": [
       "       id_prod                             date session_id client_id sex  \\\n",
       "3019       T_0  test_2021-03-01 02:30:02.237419        s_0      ct_0   f   \n",
       "5138       T_0  test_2021-03-01 02:30:02.237425        s_0      ct_0   f   \n",
       "9668       T_0  test_2021-03-01 02:30:02.237437        s_0      ct_1   m   \n",
       "10728      T_0  test_2021-03-01 02:30:02.237436        s_0      ct_0   f   \n",
       "15292      T_0  test_2021-03-01 02:30:02.237430        s_0      ct_0   f   \n",
       "...        ...                              ...        ...       ...  ..   \n",
       "577222     T_0  test_2021-03-01 02:30:02.237424        s_0      ct_0   f   \n",
       "592959     T_0  test_2021-03-01 02:30:02.237422        s_0      ct_1   m   \n",
       "607783     T_0  test_2021-03-01 02:30:02.237412        s_0      ct_0   f   \n",
       "625936     T_0  test_2021-03-01 02:30:02.237422        s_0      ct_0   f   \n",
       "670556     T_0  test_2021-03-01 02:30:02.237449        s_0      ct_1   m   \n",
       "\n",
       "        birth  price  categ  \n",
       "3019     2001   -1.0    0.0  \n",
       "5138     2001   -1.0    0.0  \n",
       "9668     2001   -1.0    0.0  \n",
       "10728    2001   -1.0    0.0  \n",
       "15292    2001   -1.0    0.0  \n",
       "...       ...    ...    ...  \n",
       "577222   2001   -1.0    0.0  \n",
       "592959   2001   -1.0    0.0  \n",
       "607783   2001   -1.0    0.0  \n",
       "625936   2001   -1.0    0.0  \n",
       "670556   2001   -1.0    0.0  \n",
       "\n",
       "[74 rows x 8 columns]"
      ]
     },
     "execution_count": 154,
     "metadata": {},
     "output_type": "execute_result"
    }
   ],
   "source": [
    "#affichage des dates avec 'test'\n",
    "test=df1[(df1['date'].str.contains(\"test\"))] \n",
    "test"
   ]
  },
  {
   "cell_type": "markdown",
   "id": "4afa8dad",
   "metadata": {},
   "source": [
    "#### En supprimant ces 74 lignes de tests, on débarasse la table de ses valeurs aberrantes (-1), du préfixe test_ dans les dates"
   ]
  },
  {
   "cell_type": "code",
   "execution_count": 155,
   "id": "4c03e2a6",
   "metadata": {},
   "outputs": [
    {
     "name": "stdout",
     "output_type": "stream",
     "text": [
      "Transactions du 2021-03-01 au 2023-02-28\n"
     ]
    }
   ],
   "source": [
    "#enleve les ligne qui contiennent test\n",
    "df_without_test=df1.drop(test.index)\n",
    "\n",
    "#coversion de la date en datatime \n",
    "df_without_test['date']=pd.to_datetime(df_without_test['date'])\n",
    "print('Transactions du', str(df_without_test['date'].min())[:10], 'au', str(df_without_test['date'].max())[:10])"
   ]
  },
  {
   "cell_type": "code",
   "execution_count": 156,
   "id": "c52c4b4e",
   "metadata": {},
   "outputs": [
    {
     "name": "stdout",
     "output_type": "stream",
     "text": [
      "<class 'pandas.core.frame.DataFrame'>\n",
      "Int64Index: 679332 entries, 0 to 679405\n",
      "Data columns (total 8 columns):\n",
      " #   Column      Non-Null Count   Dtype         \n",
      "---  ------      --------------   -----         \n",
      " 0   id_prod     679332 non-null  object        \n",
      " 1   date        679332 non-null  datetime64[ns]\n",
      " 2   session_id  679332 non-null  object        \n",
      " 3   client_id   679332 non-null  object        \n",
      " 4   sex         679332 non-null  object        \n",
      " 5   birth       679332 non-null  int64         \n",
      " 6   price       679111 non-null  float64       \n",
      " 7   categ       679111 non-null  float64       \n",
      "dtypes: datetime64[ns](1), float64(2), int64(1), object(4)\n",
      "memory usage: 46.6+ MB\n"
     ]
    }
   ],
   "source": [
    "df_without_test.info()"
   ]
  },
  {
   "cell_type": "markdown",
   "id": "8952b06b",
   "metadata": {},
   "source": [
    "#### le produit 0_2245 ne figure pas dans la table produit alors qu'il est present sur transaction "
   ]
  },
  {
   "cell_type": "code",
   "execution_count": 157,
   "id": "3e6841ed",
   "metadata": {},
   "outputs": [
    {
     "data": {
      "text/html": [
       "<div>\n",
       "<style scoped>\n",
       "    .dataframe tbody tr th:only-of-type {\n",
       "        vertical-align: middle;\n",
       "    }\n",
       "\n",
       "    .dataframe tbody tr th {\n",
       "        vertical-align: top;\n",
       "    }\n",
       "\n",
       "    .dataframe thead th {\n",
       "        text-align: right;\n",
       "    }\n",
       "</style>\n",
       "<table border=\"1\" class=\"dataframe\">\n",
       "  <thead>\n",
       "    <tr style=\"text-align: right;\">\n",
       "      <th></th>\n",
       "      <th>id_prod</th>\n",
       "      <th>date</th>\n",
       "      <th>session_id</th>\n",
       "      <th>client_id</th>\n",
       "      <th>sex</th>\n",
       "      <th>birth</th>\n",
       "      <th>price</th>\n",
       "      <th>categ</th>\n",
       "    </tr>\n",
       "  </thead>\n",
       "  <tbody>\n",
       "    <tr>\n",
       "      <th>2633</th>\n",
       "      <td>0_2245</td>\n",
       "      <td>2022-09-23 07:22:38.636773</td>\n",
       "      <td>s_272266</td>\n",
       "      <td>c_4746</td>\n",
       "      <td>m</td>\n",
       "      <td>1940</td>\n",
       "      <td>NaN</td>\n",
       "      <td>NaN</td>\n",
       "    </tr>\n",
       "    <tr>\n",
       "      <th>10106</th>\n",
       "      <td>0_2245</td>\n",
       "      <td>2022-07-23 09:24:14.133889</td>\n",
       "      <td>s_242482</td>\n",
       "      <td>c_6713</td>\n",
       "      <td>f</td>\n",
       "      <td>1963</td>\n",
       "      <td>NaN</td>\n",
       "      <td>NaN</td>\n",
       "    </tr>\n",
       "    <tr>\n",
       "      <th>11727</th>\n",
       "      <td>0_2245</td>\n",
       "      <td>2022-12-03 03:26:35.696673</td>\n",
       "      <td>s_306338</td>\n",
       "      <td>c_5108</td>\n",
       "      <td>m</td>\n",
       "      <td>1978</td>\n",
       "      <td>NaN</td>\n",
       "      <td>NaN</td>\n",
       "    </tr>\n",
       "    <tr>\n",
       "      <th>15675</th>\n",
       "      <td>0_2245</td>\n",
       "      <td>2021-08-16 11:33:25.481411</td>\n",
       "      <td>s_76493</td>\n",
       "      <td>c_1391</td>\n",
       "      <td>m</td>\n",
       "      <td>1991</td>\n",
       "      <td>NaN</td>\n",
       "      <td>NaN</td>\n",
       "    </tr>\n",
       "    <tr>\n",
       "      <th>16377</th>\n",
       "      <td>0_2245</td>\n",
       "      <td>2022-07-16 05:53:01.627491</td>\n",
       "      <td>s_239078</td>\n",
       "      <td>c_7954</td>\n",
       "      <td>m</td>\n",
       "      <td>1973</td>\n",
       "      <td>NaN</td>\n",
       "      <td>NaN</td>\n",
       "    </tr>\n",
       "    <tr>\n",
       "      <th>...</th>\n",
       "      <td>...</td>\n",
       "      <td>...</td>\n",
       "      <td>...</td>\n",
       "      <td>...</td>\n",
       "      <td>...</td>\n",
       "      <td>...</td>\n",
       "      <td>...</td>\n",
       "      <td>...</td>\n",
       "    </tr>\n",
       "    <tr>\n",
       "      <th>669606</th>\n",
       "      <td>0_2245</td>\n",
       "      <td>2021-08-25 09:06:03.504061</td>\n",
       "      <td>s_80395</td>\n",
       "      <td>c_131</td>\n",
       "      <td>m</td>\n",
       "      <td>1981</td>\n",
       "      <td>NaN</td>\n",
       "      <td>NaN</td>\n",
       "    </tr>\n",
       "    <tr>\n",
       "      <th>670558</th>\n",
       "      <td>0_2245</td>\n",
       "      <td>2022-03-06 19:59:19.462288</td>\n",
       "      <td>s_175311</td>\n",
       "      <td>c_4167</td>\n",
       "      <td>f</td>\n",
       "      <td>1979</td>\n",
       "      <td>NaN</td>\n",
       "      <td>NaN</td>\n",
       "    </tr>\n",
       "    <tr>\n",
       "      <th>671162</th>\n",
       "      <td>0_2245</td>\n",
       "      <td>2022-05-16 11:35:20.319501</td>\n",
       "      <td>s_209381</td>\n",
       "      <td>c_4453</td>\n",
       "      <td>m</td>\n",
       "      <td>1981</td>\n",
       "      <td>NaN</td>\n",
       "      <td>NaN</td>\n",
       "    </tr>\n",
       "    <tr>\n",
       "      <th>675554</th>\n",
       "      <td>0_2245</td>\n",
       "      <td>2022-02-11 09:05:43.952857</td>\n",
       "      <td>s_163405</td>\n",
       "      <td>c_1098</td>\n",
       "      <td>m</td>\n",
       "      <td>1986</td>\n",
       "      <td>NaN</td>\n",
       "      <td>NaN</td>\n",
       "    </tr>\n",
       "    <tr>\n",
       "      <th>677871</th>\n",
       "      <td>0_2245</td>\n",
       "      <td>2021-12-14 22:34:54.589921</td>\n",
       "      <td>s_134446</td>\n",
       "      <td>c_4854</td>\n",
       "      <td>m</td>\n",
       "      <td>1968</td>\n",
       "      <td>NaN</td>\n",
       "      <td>NaN</td>\n",
       "    </tr>\n",
       "  </tbody>\n",
       "</table>\n",
       "<p>221 rows × 8 columns</p>\n",
       "</div>"
      ],
      "text/plain": [
       "       id_prod                       date session_id client_id sex  birth  \\\n",
       "2633    0_2245 2022-09-23 07:22:38.636773   s_272266    c_4746   m   1940   \n",
       "10106   0_2245 2022-07-23 09:24:14.133889   s_242482    c_6713   f   1963   \n",
       "11727   0_2245 2022-12-03 03:26:35.696673   s_306338    c_5108   m   1978   \n",
       "15675   0_2245 2021-08-16 11:33:25.481411    s_76493    c_1391   m   1991   \n",
       "16377   0_2245 2022-07-16 05:53:01.627491   s_239078    c_7954   m   1973   \n",
       "...        ...                        ...        ...       ...  ..    ...   \n",
       "669606  0_2245 2021-08-25 09:06:03.504061    s_80395     c_131   m   1981   \n",
       "670558  0_2245 2022-03-06 19:59:19.462288   s_175311    c_4167   f   1979   \n",
       "671162  0_2245 2022-05-16 11:35:20.319501   s_209381    c_4453   m   1981   \n",
       "675554  0_2245 2022-02-11 09:05:43.952857   s_163405    c_1098   m   1986   \n",
       "677871  0_2245 2021-12-14 22:34:54.589921   s_134446    c_4854   m   1968   \n",
       "\n",
       "        price  categ  \n",
       "2633      NaN    NaN  \n",
       "10106     NaN    NaN  \n",
       "11727     NaN    NaN  \n",
       "15675     NaN    NaN  \n",
       "16377     NaN    NaN  \n",
       "...       ...    ...  \n",
       "669606    NaN    NaN  \n",
       "670558    NaN    NaN  \n",
       "671162    NaN    NaN  \n",
       "675554    NaN    NaN  \n",
       "677871    NaN    NaN  \n",
       "\n",
       "[221 rows x 8 columns]"
      ]
     },
     "execution_count": 157,
     "metadata": {},
     "output_type": "execute_result"
    }
   ],
   "source": [
    "produit_2245 = df_without_test[df_without_test['id_prod']=='0_2245'] # Échantillon du produit 0_2245\n",
    "produit_2245"
   ]
  },
  {
   "cell_type": "code",
   "execution_count": 158,
   "id": "eee4724b",
   "metadata": {},
   "outputs": [
    {
     "data": {
      "text/plain": [
       "categ\n",
       "0.0    10.638188\n",
       "1.0    20.485730\n",
       "2.0    76.207412\n",
       "Name: price, dtype: float64"
      ]
     },
     "execution_count": 158,
     "metadata": {},
     "output_type": "execute_result"
    }
   ],
   "source": [
    "df_without_test.groupby('categ').mean()['price']"
   ]
  },
  {
   "cell_type": "code",
   "execution_count": 159,
   "id": "917d2c88",
   "metadata": {},
   "outputs": [
    {
     "data": {
      "text/plain": [
       "0.0"
      ]
     },
     "execution_count": 159,
     "metadata": {},
     "output_type": "execute_result"
    }
   ],
   "source": [
    "#identification classe modal\n",
    "mode=df_without_test['categ'].mode()[0]\n",
    "mode"
   ]
  },
  {
   "cell_type": "code",
   "execution_count": 160,
   "id": "611aefa0",
   "metadata": {},
   "outputs": [],
   "source": [
    "#remplace les categorie nulle par la classe modale (0.0)\n",
    "df_without_test['categ']=df_without_test['categ'].fillna(mode)\n",
    "df_without_test['price']=df_without_test['price'].fillna(10.63)\n",
    "#df_without_test[df_without_test['id_prod']=='0_2245']"
   ]
  },
  {
   "cell_type": "markdown",
   "id": "5365f6ae",
   "metadata": {},
   "source": [
    "### les prix de la catégorie 2.0 sont plus cher "
   ]
  },
  {
   "cell_type": "code",
   "execution_count": 161,
   "id": "57efc709",
   "metadata": {
    "scrolled": true
   },
   "outputs": [
    {
     "data": {
      "image/png": "[encoded data removed]",
      "text/plain": [
       "<Figure size 720x360 with 1 Axes>"
      ]
     },
     "metadata": {},
     "output_type": "display_data"
    }
   ],
   "source": [
    "# Distribution et moyenne des prix par catégorie\n",
    "plt.figure(figsize=(10,5))\n",
    "sns.boxplot(data=df_without_test, y='categ', x='price', orient='h', showfliers=False, showmeans=True, palette=[\"#64ffda\", \"#536dfe\", \"#ff6e40\"], meanprops={\"marker\":\"s\",\"markerfacecolor\":\"white\"})\n",
    "plt.title('Distribution des prix par catégorie',fontsize=15)\n",
    "plt.show()\n",
    "\n",
    " "
   ]
  },
  {
   "cell_type": "markdown",
   "id": "7da1a6fb",
   "metadata": {},
   "source": [
    "# Différents indicateurs et graphiques autour du chiffre d'affaires. "
   ]
  },
  {
   "cell_type": "code",
   "execution_count": 162,
   "id": "229f3185",
   "metadata": {},
   "outputs": [
    {
     "data": {
      "image/png": "[encoded data removed]",
      "text/plain": [
       "<Figure size 720x360 with 1 Axes>"
      ]
     },
     "metadata": {},
     "output_type": "display_data"
    }
   ],
   "source": [
    "# pourcentage ventes par catégorie\n",
    "plt.figure(figsize=(10,5))\n",
    "df_without_test['categ'].value_counts(normalize=True).plot(\n",
    "    kind='pie',\n",
    "    legend=True,\n",
    "    autopct='%1.1f%%')\n",
    "plt.title('Pourcentage des ventes par catégorie',fontsize=15)\n",
    "plt.show()"
   ]
  },
  {
   "cell_type": "code",
   "execution_count": 163,
   "id": "20f71bd1",
   "metadata": {},
   "outputs": [
    {
     "data": {
      "image/png": "[encoded data removed]",
      "text/plain": [
       "<Figure size 576x360 with 1 Axes>"
      ]
     },
     "metadata": {},
     "output_type": "display_data"
    }
   ],
   "source": [
    "# Chiffre d'affaires par catégorie\n",
    "plt.figure(figsize=(8,5))\n",
    "data=df_without_test.pivot_table(index='categ', aggfunc={'price': np.sum}).reset_index()\n",
    "sns.barplot(data=data,x=\"categ\",y=\"price\")\n",
    "plt.title('Répartition du chiffres d\\'affaires par catégorie',fontsize=15)\n",
    "plt.show()"
   ]
  },
  {
   "cell_type": "code",
   "execution_count": 164,
   "id": "abc02fba",
   "metadata": {},
   "outputs": [],
   "source": [
    "#calcul chiffre d'affaires par mois\n",
    "df_chiff_aff=df_without_test.groupby([df_without_test['date'].dt.month.rename('MONTH'),df_without_test['date'].dt.year.rename('YEAR'),df_without_test[\"categ\"]])['price'].sum().reset_index()\n",
    "\n",
    "#creation colonne date en affichant année , moi et jour \n",
    "df_chiff_aff[\"date\"]=pd.to_datetime(df_chiff_aff[['YEAR', 'MONTH']].assign(DAY=1))\n",
    "\n",
    "# ordonner les mois                                                                      \n",
    "df_chiff_aff=df_chiff_aff.sort_values(by='date')\n",
    "#df_chiff_aff.index=df_chiff_aff.date\n",
    "\n",
    "#df_chiff_aff\n",
    "\n",
    "\n",
    "\n",
    "\n"
   ]
  },
  {
   "cell_type": "code",
   "execution_count": 165,
   "id": "7030d102",
   "metadata": {},
   "outputs": [
    {
     "data": {
      "text/plain": [
       "Text(0.5, 1.0, \"Evolution du chiffre d'affaires par catégorie\")"
      ]
     },
     "execution_count": 165,
     "metadata": {},
     "output_type": "execute_result"
    },
    {
     "data": {
      "image/png": "[encoded data removed]",
      "text/plain": [
       "<Figure size 1440x576 with 1 Axes>"
      ]
     },
     "metadata": {},
     "output_type": "display_data"
    }
   ],
   "source": [
    "#evolution du chiffre d'affaire par categorie \n",
    "sns.set_theme(style=\"darkgrid\")\n",
    "plt.figure(figsize=(20,8))\n",
    "sns.lineplot(x=\"date\",y=\"price\",hue=\"categ\", data = df_chiff_aff, marker = 'o',palette=['r', 'g','b'])\n",
    "plt.title(\"Evolution du chiffre d'affaires par catégorie\",fontsize=20)\n",
    "\n"
   ]
  },
  {
   "cell_type": "code",
   "execution_count": 166,
   "id": "b511d473",
   "metadata": {},
   "outputs": [
    {
     "data": {
      "text/plain": [
       "Text(0.5, 1.0, \"Evolution du chiffre d'affaires mensuel\")"
      ]
     },
     "execution_count": 166,
     "metadata": {},
     "output_type": "execute_result"
    },
    {
     "data": {
      "image/png": "[encoded data removed]",
      "text/plain": [
       "<Figure size 1440x576 with 1 Axes>"
      ]
     },
     "metadata": {},
     "output_type": "display_data"
    }
   ],
   "source": [
    "#calcul chiffre d'affaires par mois\n",
    "df_chiff_aff.index=df_chiff_aff.date\n",
    "df_chiff_mens=df_chiff_aff.groupby([df_chiff_aff[\"date\"]])['price'].sum().reset_index()\n",
    "sns.set_theme(style=\"darkgrid\")\n",
    "plt.figure(figsize=(20,8))\n",
    "sns.lineplot(x=\"date\",y=\"price\", data = df_chiff_mens, marker = 'o')\n",
    "plt.title(\"Evolution du chiffre d'affaires mensuel\",fontsize=20)\n"
   ]
  },
  {
   "cell_type": "markdown",
   "id": "3afd9036",
   "metadata": {},
   "source": [
    "# Décomposition en moyenne mobile "
   ]
  },
  {
   "cell_type": "code",
   "execution_count": 167,
   "id": "dd548e26",
   "metadata": {},
   "outputs": [
    {
     "data": {
      "text/plain": [
       "Text(0.5, 1.0, 'Moyenne mobile trimestrielle')"
      ]
     },
     "execution_count": 167,
     "metadata": {},
     "output_type": "execute_result"
    },
    {
     "data": {
      "image/png": "[encoded data removed]",
      "text/plain": [
       "<Figure size 1440x576 with 1 Axes>"
      ]
     },
     "metadata": {},
     "output_type": "display_data"
    }
   ],
   "source": [
    "df_chiff_mens.index=df_chiff_mens.date\n",
    "#moyenne mobile par trimestre (n=3)\n",
    "plt.figure(figsize=(20,8))\n",
    "test=pd.DataFrame(df_chiff_mens['price'].rolling(3).sum()).reset_index()\n",
    "sns.lineplot(x=\"date\",y=\"price\", data =test, marker = 'o')\n",
    "plt.title(\"Moyenne mobile trimestrielle\",fontsize=20)\n",
    "#test"
   ]
  },
  {
   "cell_type": "markdown",
   "id": "3a8a366a",
   "metadata": {},
   "source": [
    "# zoom sur les références"
   ]
  },
  {
   "cell_type": "markdown",
   "id": "1f379b76",
   "metadata": {},
   "source": [
    "#### Les tops produits"
   ]
  },
  {
   "cell_type": "code",
   "execution_count": 168,
   "id": "3411a134",
   "metadata": {},
   "outputs": [
    {
     "data": {
      "text/html": [
       "<div>\n",
       "<style scoped>\n",
       "    .dataframe tbody tr th:only-of-type {\n",
       "        vertical-align: middle;\n",
       "    }\n",
       "\n",
       "    .dataframe tbody tr th {\n",
       "        vertical-align: top;\n",
       "    }\n",
       "\n",
       "    .dataframe thead th {\n",
       "        text-align: right;\n",
       "    }\n",
       "</style>\n",
       "<table border=\"1\" class=\"dataframe\">\n",
       "  <thead>\n",
       "    <tr style=\"text-align: right;\">\n",
       "      <th></th>\n",
       "      <th>id_prod</th>\n",
       "      <th>categ</th>\n",
       "      <th>Nombre de transcation</th>\n",
       "    </tr>\n",
       "  </thead>\n",
       "  <tbody>\n",
       "    <tr>\n",
       "      <th>0</th>\n",
       "      <td>1_369</td>\n",
       "      <td>1.0</td>\n",
       "      <td>2252</td>\n",
       "    </tr>\n",
       "    <tr>\n",
       "      <th>1</th>\n",
       "      <td>1_417</td>\n",
       "      <td>1.0</td>\n",
       "      <td>2189</td>\n",
       "    </tr>\n",
       "    <tr>\n",
       "      <th>2</th>\n",
       "      <td>1_414</td>\n",
       "      <td>1.0</td>\n",
       "      <td>2180</td>\n",
       "    </tr>\n",
       "    <tr>\n",
       "      <th>3</th>\n",
       "      <td>1_498</td>\n",
       "      <td>1.0</td>\n",
       "      <td>2128</td>\n",
       "    </tr>\n",
       "    <tr>\n",
       "      <th>4</th>\n",
       "      <td>1_425</td>\n",
       "      <td>1.0</td>\n",
       "      <td>2096</td>\n",
       "    </tr>\n",
       "    <tr>\n",
       "      <th>5</th>\n",
       "      <td>1_403</td>\n",
       "      <td>1.0</td>\n",
       "      <td>1960</td>\n",
       "    </tr>\n",
       "    <tr>\n",
       "      <th>6</th>\n",
       "      <td>1_412</td>\n",
       "      <td>1.0</td>\n",
       "      <td>1951</td>\n",
       "    </tr>\n",
       "    <tr>\n",
       "      <th>7</th>\n",
       "      <td>1_413</td>\n",
       "      <td>1.0</td>\n",
       "      <td>1945</td>\n",
       "    </tr>\n",
       "    <tr>\n",
       "      <th>8</th>\n",
       "      <td>1_406</td>\n",
       "      <td>1.0</td>\n",
       "      <td>1939</td>\n",
       "    </tr>\n",
       "    <tr>\n",
       "      <th>9</th>\n",
       "      <td>1_407</td>\n",
       "      <td>1.0</td>\n",
       "      <td>1935</td>\n",
       "    </tr>\n",
       "  </tbody>\n",
       "</table>\n",
       "</div>"
      ],
      "text/plain": [
       "  id_prod  categ  Nombre de transcation\n",
       "0   1_369    1.0                   2252\n",
       "1   1_417    1.0                   2189\n",
       "2   1_414    1.0                   2180\n",
       "3   1_498    1.0                   2128\n",
       "4   1_425    1.0                   2096\n",
       "5   1_403    1.0                   1960\n",
       "6   1_412    1.0                   1951\n",
       "7   1_413    1.0                   1945\n",
       "8   1_406    1.0                   1939\n",
       "9   1_407    1.0                   1935"
      ]
     },
     "execution_count": 168,
     "metadata": {},
     "output_type": "execute_result"
    }
   ],
   "source": [
    "prod_des=df_without_test.pivot_table(index=['id_prod',\"categ\"], aggfunc={\"price\":'count'}).sort_values(\n",
    "      by=\"price\",ascending=False).reset_index().rename(columns={'price': 'Nombre de transcation'})\n",
    "\n",
    "prod_des.head(10)\n",
    "\n"
   ]
  },
  {
   "cell_type": "markdown",
   "id": "91951ba3",
   "metadata": {},
   "source": [
    "#### Les flops produits"
   ]
  },
  {
   "cell_type": "code",
   "execution_count": 169,
   "id": "adca6136",
   "metadata": {},
   "outputs": [
    {
     "data": {
      "text/html": [
       "<div>\n",
       "<style scoped>\n",
       "    .dataframe tbody tr th:only-of-type {\n",
       "        vertical-align: middle;\n",
       "    }\n",
       "\n",
       "    .dataframe tbody tr th {\n",
       "        vertical-align: top;\n",
       "    }\n",
       "\n",
       "    .dataframe thead th {\n",
       "        text-align: right;\n",
       "    }\n",
       "</style>\n",
       "<table border=\"1\" class=\"dataframe\">\n",
       "  <thead>\n",
       "    <tr style=\"text-align: right;\">\n",
       "      <th></th>\n",
       "      <th>id_prod</th>\n",
       "      <th>categ</th>\n",
       "      <th>Nombre de transcation</th>\n",
       "    </tr>\n",
       "  </thead>\n",
       "  <tbody>\n",
       "    <tr>\n",
       "      <th>3256</th>\n",
       "      <td>0_2201</td>\n",
       "      <td>0.0</td>\n",
       "      <td>1</td>\n",
       "    </tr>\n",
       "    <tr>\n",
       "      <th>3257</th>\n",
       "      <td>0_1151</td>\n",
       "      <td>0.0</td>\n",
       "      <td>1</td>\n",
       "    </tr>\n",
       "    <tr>\n",
       "      <th>3258</th>\n",
       "      <td>0_1728</td>\n",
       "      <td>0.0</td>\n",
       "      <td>1</td>\n",
       "    </tr>\n",
       "    <tr>\n",
       "      <th>3259</th>\n",
       "      <td>2_81</td>\n",
       "      <td>2.0</td>\n",
       "      <td>1</td>\n",
       "    </tr>\n",
       "    <tr>\n",
       "      <th>3260</th>\n",
       "      <td>0_1539</td>\n",
       "      <td>0.0</td>\n",
       "      <td>1</td>\n",
       "    </tr>\n",
       "    <tr>\n",
       "      <th>3261</th>\n",
       "      <td>0_1284</td>\n",
       "      <td>0.0</td>\n",
       "      <td>1</td>\n",
       "    </tr>\n",
       "    <tr>\n",
       "      <th>3262</th>\n",
       "      <td>0_549</td>\n",
       "      <td>0.0</td>\n",
       "      <td>1</td>\n",
       "    </tr>\n",
       "    <tr>\n",
       "      <th>3263</th>\n",
       "      <td>0_1498</td>\n",
       "      <td>0.0</td>\n",
       "      <td>1</td>\n",
       "    </tr>\n",
       "    <tr>\n",
       "      <th>3264</th>\n",
       "      <td>0_541</td>\n",
       "      <td>0.0</td>\n",
       "      <td>1</td>\n",
       "    </tr>\n",
       "    <tr>\n",
       "      <th>3265</th>\n",
       "      <td>0_886</td>\n",
       "      <td>0.0</td>\n",
       "      <td>1</td>\n",
       "    </tr>\n",
       "  </tbody>\n",
       "</table>\n",
       "</div>"
      ],
      "text/plain": [
       "     id_prod  categ  Nombre de transcation\n",
       "3256  0_2201    0.0                      1\n",
       "3257  0_1151    0.0                      1\n",
       "3258  0_1728    0.0                      1\n",
       "3259    2_81    2.0                      1\n",
       "3260  0_1539    0.0                      1\n",
       "3261  0_1284    0.0                      1\n",
       "3262   0_549    0.0                      1\n",
       "3263  0_1498    0.0                      1\n",
       "3264   0_541    0.0                      1\n",
       "3265   0_886    0.0                      1"
      ]
     },
     "execution_count": 169,
     "metadata": {},
     "output_type": "execute_result"
    }
   ],
   "source": [
    " prod_des.tail(10)"
   ]
  },
  {
   "cell_type": "markdown",
   "id": "92c6bc0d",
   "metadata": {},
   "source": [
    "## La repartition des tops/flops par catégories"
   ]
  },
  {
   "cell_type": "code",
   "execution_count": 170,
   "id": "b58d15db",
   "metadata": {
    "scrolled": true
   },
   "outputs": [
    {
     "name": "stdout",
     "output_type": "stream",
     "text": [
      "0.0\n",
      "les tops produit de la categorie 0.0\n",
      "  id_prod  categ  Nombre de transcation\n",
      "0  0_1422    0.0                   1292\n",
      "1  0_1431    0.0                   1282\n",
      "2  0_1425    0.0                   1266\n",
      "3  0_1432    0.0                   1254\n",
      "4  0_1411    0.0                   1246\n",
      "5  0_1428    0.0                   1245\n",
      "6     0_0    0.0                   1242\n",
      "7  0_1424    0.0                   1238\n",
      "8  0_1434    0.0                   1235\n",
      "9  0_1441    0.0                   1235\n",
      "les flops de la categorie 0.0\n",
      "     id_prod  categ  Nombre de transcation\n",
      "2283   0_541    0.0                      1\n",
      "2284   0_833    0.0                      1\n",
      "2285  0_2201    0.0                      1\n",
      "2286  0_1379    0.0                      1\n",
      "2287   0_807    0.0                      1\n",
      "2288   0_549    0.0                      1\n",
      "2289  0_1683    0.0                      1\n",
      "2290  0_1284    0.0                      1\n",
      "2291  0_1498    0.0                      1\n",
      "2292  0_1151    0.0                      1\n",
      "--------------------------------------------------\n",
      "1.0\n",
      "les tops produit de la categorie 1.0\n",
      "  id_prod  categ  Nombre de transcation\n",
      "0   1_369    1.0                   2252\n",
      "1   1_417    1.0                   2189\n",
      "2   1_414    1.0                   2180\n",
      "3   1_498    1.0                   2128\n",
      "4   1_425    1.0                   2096\n",
      "5   1_403    1.0                   1960\n",
      "6   1_412    1.0                   1951\n",
      "7   1_413    1.0                   1945\n",
      "8   1_406    1.0                   1939\n",
      "9   1_407    1.0                   1935\n",
      "les flops de la categorie 1.0\n",
      "    id_prod  categ  Nombre de transcation\n",
      "727   1_224    1.0                      4\n",
      "728   1_411    1.0                      4\n",
      "729   1_494    1.0                      4\n",
      "730   1_404    1.0                      3\n",
      "731   1_146    1.0                      3\n",
      "732   1_408    1.0                      3\n",
      "733   1_409    1.0                      3\n",
      "734   1_402    1.0                      2\n",
      "735   1_420    1.0                      2\n",
      "736   1_514    1.0                      2\n",
      "--------------------------------------------------\n",
      "2.0\n",
      "les tops produit de la categorie 2.0\n",
      "  id_prod  categ  Nombre de transcation\n",
      "0   2_102    2.0                   1027\n",
      "1   2_135    2.0                   1005\n",
      "2   2_112    2.0                    968\n",
      "3    2_39    2.0                    915\n",
      "4    2_37    2.0                    882\n",
      "5   2_110    2.0                    865\n",
      "6   2_208    2.0                    831\n",
      "7   2_209    2.0                    814\n",
      "8   2_207    2.0                    786\n",
      "9   2_109    2.0                    744\n",
      "les flops de la categorie 2.0\n",
      "    id_prod  categ  Nombre de transcation\n",
      "226    2_28    2.0                      3\n",
      "227    2_78    2.0                      3\n",
      "228   2_130    2.0                      3\n",
      "229   2_131    2.0                      3\n",
      "230    2_66    2.0                      3\n",
      "231    2_93    2.0                      2\n",
      "232    2_77    2.0                      2\n",
      "233    2_81    2.0                      1\n",
      "234    2_23    2.0                      1\n",
      "235    2_98    2.0                      1\n",
      "--------------------------------------------------\n"
     ]
    }
   ],
   "source": [
    "for idx, x in df_without_test.groupby([df_without_test['categ']]):\n",
    "  print(idx)\n",
    "  prod_des=x.pivot_table(index=['id_prod',\"categ\"], aggfunc={\"price\":'count'}).sort_values(\n",
    "  by=\"price\",ascending=False).reset_index().rename(columns={'price': 'Nombre de transcation'})\n",
    "    \n",
    "  print(\"les tops produit de la categorie \"+str(idx))\n",
    "  print(prod_des.head(10))\n",
    "  print(\"les flops de la categorie \"+str(idx))\n",
    "  print(prod_des.tail(10))\n",
    "    \n",
    "  print(50*'-' )\n",
    "  \n",
    "    \n",
    "    "
   ]
  },
  {
   "cell_type": "markdown",
   "id": "8e52a7af",
   "metadata": {},
   "source": [
    "# Profils des clients"
   ]
  },
  {
   "cell_type": "code",
   "execution_count": 171,
   "id": "301da7ae",
   "metadata": {},
   "outputs": [],
   "source": [
    "from datetime import datetime\n",
    "year = datetime.now().year # Année courante\n",
    "df_without_test=df_without_test.reset_index(drop=True)\n",
    "df_without_test['age'] = year - df_without_test['birth'] # Âge du client\n",
    "\n",
    "# Tranches d'âge\n",
    "df_without_test['classe_age'] = '18-30'\n",
    "df_without_test['classe_age'].loc[df_without_test[df_without_test['age']>=30].index] = '30-40'\n",
    "df_without_test['classe_age'].loc[df_without_test[df_without_test['age']>=40].index] = '40-50'\n",
    "df_without_test['classe_age'].loc[df_without_test[df_without_test['age']>=50].index] = '50-60'\n",
    "df_without_test['classe_age'].loc[df_without_test[df_without_test['age']>=60].index] = '60-70'\n",
    "df_without_test['classe_age'].loc[df_without_test[df_without_test['age']>=70].index] = '70-80'\n",
    "df_without_test['classe_age'].loc[df_without_test[df_without_test['age']>=80].index] = '80 et +'\n",
    "\n"
   ]
  },
  {
   "cell_type": "markdown",
   "id": "ff3c0d4a",
   "metadata": {},
   "source": [
    "### La pyramide des âges ne montre aucune différence entre les hommes et les femmes."
   ]
  },
  {
   "cell_type": "code",
   "execution_count": 172,
   "id": "8cb326ec",
   "metadata": {},
   "outputs": [
    {
     "data": {
      "image/png": "[encoded data removed]",
      "text/plain": [
       "<Figure size 432x288 with 2 Axes>"
      ]
     },
     "metadata": {},
     "output_type": "display_data"
    }
   ],
   "source": [
    "\n",
    "fig, axes = plt.subplots(1, 2)\n",
    "fig.suptitle('Pyramide des âges par sexe')\n",
    "sns.histplot(ax=axes[0], y=df_without_test[df_without_test['sex']=='m']['age'], bins=12)\n",
    "axes[0].invert_xaxis()\n",
    "axes[0].set_title('Hommes')\n",
    "\n",
    "sns.histplot(ax=axes[1], y=df_without_test[df_without_test['sex']=='f']['age'], bins=12)\n",
    "axes[1].set_yticklabels([])\n",
    "axes[1].set_ylabel('')\n",
    "axes[1].set_title('Femmes')\n",
    "\n",
    "plt.subplots_adjust(wspace=0, hspace=0)\n",
    "plt.show()"
   ]
  },
  {
   "cell_type": "markdown",
   "id": "30f1e6c2",
   "metadata": {},
   "source": [
    " ### Les 30-50 ans représentent plus de la moitié des ventes."
   ]
  },
  {
   "cell_type": "code",
   "execution_count": 173,
   "id": "ae72351b",
   "metadata": {},
   "outputs": [
    {
     "data": {
      "image/png": "[encoded data removed]",
      "text/plain": [
       "<Figure size 432x288 with 1 Axes>"
      ]
     },
     "metadata": {},
     "output_type": "display_data"
    }
   ],
   "source": [
    "sns.boxplot(data=df_without_test, x='age', showfliers=False)\n",
    "plt.title('Distribution des âges',fontsize=15)\n",
    "plt.show()"
   ]
  },
  {
   "cell_type": "code",
   "execution_count": 174,
   "id": "e185dc73",
   "metadata": {},
   "outputs": [
    {
     "data": {
      "text/plain": [
       "<Figure size 864x720 with 0 Axes>"
      ]
     },
     "metadata": {},
     "output_type": "display_data"
    },
    {
     "data": {
      "image/png": "[encoded data removed]",
      "text/plain": [
       "<Figure size 414.975x360 with 1 Axes>"
      ]
     },
     "metadata": {},
     "output_type": "display_data"
    }
   ],
   "source": [
    "#Distribution des ages par categorie\n",
    "plt.figure(figsize=(12,10))\n",
    "sns.displot(data=df_without_test, x='age', hue='categ', kind='kde', fill=True,palette=[\"#9b59b6\",\"#EF9A9A\", \"#ff0000\"])\n",
    "plt.title(\"Distribution des ages par categorie\")\n",
    "plt.show()\n",
    "\n"
   ]
  },
  {
   "cell_type": "code",
   "execution_count": 175,
   "id": "2cdc055d",
   "metadata": {},
   "outputs": [],
   "source": [
    "# Courbe de Lorenz\n",
    "def lorenz(variable, title):\n",
    "    X = variable.values\n",
    "    X = np.sort(X)\n",
    "    \n",
    "    # Indice de Gini\n",
    "    def gini(array):\n",
    "        array\n",
    "        sorted_array = array.copy()\n",
    "        sorted_array.sort()\n",
    "        n = array.size\n",
    "        coef_ = 2. / n\n",
    "        const_ = (n + 1.) / n\n",
    "        weighted_sum = sum([(i+1)*yi for i, yi in enumerate(sorted_array)])\n",
    "        return coef_*weighted_sum/(sorted_array.sum()) - const_\n",
    "    print('Incide de Gini :', gini(X))\n",
    "    \n",
    "    # Courbe de Lorenz\n",
    "    X_lorenz = X.cumsum() / X.sum()\n",
    "    X_lorenz = np.insert(X_lorenz, 0, 0)\n",
    "    # X_lorenz[0], X_lorenz[-1]\n",
    "    y = np.arange(X_lorenz.size)/(X_lorenz.size-1)\n",
    "    lorenz = pd.DataFrame()\n",
    "    lorenz['X'] = pd.Series(X_lorenz)\n",
    "    lorenz['Y'] = pd.Series(y)\n",
    "    sns.scatterplot(data=lorenz, x='Y', y='X', marker='x')\n",
    "\n",
    "    # Diagonale\n",
    "    a = np.arange(0,1,.01)\n",
    "    x = a\n",
    "    y = a\n",
    "    \n",
    "    # Graphique\n",
    "    sns.lineplot(x=x,y=y)\n",
    "    plt.xlim([0,1.05])\n",
    "    plt.ylim([0,1.05])\n",
    "    plt.title(title)\n",
    "    plt.show()\n",
    "     \n",
    "    "
   ]
  },
  {
   "cell_type": "markdown",
   "id": "1845dcf8",
   "metadata": {},
   "source": [
    "#### L'indice de Gini mesure ici l'inégalité des chiffres d'affaires de tous les clients.\n",
    "\n",
    "#### Indice de Gini : chiffre de 0 à 1 mesurant l'aire entre la bissectrice et la courbe de Lorenz\n",
    "\n",
    "#### * un coefficient de 0 indiquerait une égalité parfaite \n",
    "#### * si l'indice était de 1, un seul client détiendrait la totalité du chiffre d'affaires \n",
    "#### * d'apres le calcul de l'indice de gini 44% client detiennent  environ 20% du chiffre d'affaires \n"
   ]
  },
  {
   "cell_type": "code",
   "execution_count": 176,
   "id": "1495a059",
   "metadata": {
    "scrolled": true
   },
   "outputs": [
    {
     "name": "stdout",
     "output_type": "stream",
     "text": [
      "Incide de Gini : 0.4463955148291978\n"
     ]
    },
    {
     "data": {
      "image/png": "[encoded data removed]",
      "text/plain": [
       "<Figure size 432x288 with 1 Axes>"
      ]
     },
     "metadata": {},
     "output_type": "display_data"
    }
   ],
   "source": [
    "lorenz(df_without_test.pivot_table(index='client_id', aggfunc='sum')['price'], 'Inégalités de CA entre clients')\n"
   ]
  },
  {
   "cell_type": "markdown",
   "id": "40bb1877",
   "metadata": {},
   "source": [
    "# Le lien entre les variables"
   ]
  },
  {
   "cell_type": "markdown",
   "id": "04c236cb",
   "metadata": {},
   "source": [
    "#### 1/ le lien entre l’âge des clients et le montant total des achats (quantitative)"
   ]
  },
  {
   "cell_type": "markdown",
   "id": "6923bb4d",
   "metadata": {},
   "source": [
    "#### on observe certaines tendances comme les  30-50 ans et les moins de 30 ans font plus d'achats "
   ]
  },
  {
   "cell_type": "code",
   "execution_count": 177,
   "id": "dcb8d820",
   "metadata": {},
   "outputs": [],
   "source": [
    "df_achat=df_without_test.pivot_table(\n",
    "    index='client_id', values='price', \n",
    "    aggfunc='sum').reset_index().rename(\n",
    "    columns={'price': 'total_achats'})\n",
    "df_achat=df_achat.merge(df_without_test[[\"client_id\",\"classe_age\",\"age\"]].drop_duplicates(),on=\"client_id\",how='left')\n",
    "#df_achat.head()"
   ]
  },
  {
   "cell_type": "code",
   "execution_count": 178,
   "id": "8b42e9d7",
   "metadata": {},
   "outputs": [
    {
     "data": {
      "text/plain": [
       "Text(0.5, 1.0, \"Distribution total achat par classe d'age\")"
      ]
     },
     "execution_count": 178,
     "metadata": {},
     "output_type": "execute_result"
    },
    {
     "data": {
      "image/png": "[encoded data removed]",
      "text/plain": [
       "<Figure size 720x432 with 1 Axes>"
      ]
     },
     "metadata": {},
     "output_type": "display_data"
    }
   ],
   "source": [
    "#distribution du chiffre d'affaire par classe d'age\n",
    "plt.figure(figsize=(10, 6))\n",
    "sns.boxplot(data=df_achat.sort_values(by='classe_age'), \n",
    "            y='classe_age', x='total_achats', \n",
    "            showfliers=False, showmeans=True)\n",
    "plt.title(\"Distribution total achat par classe d'age\",fontsize=15)"
   ]
  },
  {
   "cell_type": "markdown",
   "id": "03696c78",
   "metadata": {},
   "source": [
    "#### H1 validé :  corrélation entre l'age et le total d'achat car (0,0002 ) inferieur à 0,05 \n"
   ]
  },
  {
   "cell_type": "code",
   "execution_count": 179,
   "id": "5ac3c6ff",
   "metadata": {},
   "outputs": [
    {
     "name": "stdout",
     "output_type": "stream",
     "text": [
      "p-value =  0.00021496640603444787\n",
      "H1: Il y'a une dépendance entre les variables\n"
     ]
    }
   ],
   "source": [
    "from scipy import stats\n",
    "r,p=stats.pearsonr(df_achat[\"age\"], df_achat[\"total_achats\"])\n",
    "print('p-value = ' ,p)\n",
    "if p > .05:\n",
    "    print('H0: Les variables sont indépendantes')\n",
    "else:\n",
    "    print('H1: Il y\\'a une dépendance entre les variables')"
   ]
  },
  {
   "cell_type": "markdown",
   "id": "699ab79a",
   "metadata": {},
   "source": [
    "#### 2/ Le lien entre l'age et la fréquence d’achat (quantitative)"
   ]
  },
  {
   "cell_type": "code",
   "execution_count": 180,
   "id": "82ac993c",
   "metadata": {},
   "outputs": [
    {
     "name": "stdout",
     "output_type": "stream",
     "text": [
      "Transactions du 2021-03-01 au 2023-02-28\n"
     ]
    }
   ],
   "source": [
    "print('Transactions du', str(df_without_test['date'].min())[:10], 'au', str(df_without_test['date'].max())[:10])"
   ]
  },
  {
   "cell_type": "code",
   "execution_count": 181,
   "id": "44718488",
   "metadata": {},
   "outputs": [],
   "source": [
    "df_freq=df_without_test.groupby('client_id').count()['date'].reset_index().rename(columns={'date': 'total_ventes'})\n",
    "df_freq['ventes_mensuelles'] = round(df_freq['total_ventes'] / 23)\n",
    "df_freq=df_freq.merge(df_without_test[[\"client_id\",\"classe_age\",\"age\"]].drop_duplicates(),on=\"client_id\",how='left')\n"
   ]
  },
  {
   "cell_type": "markdown",
   "id": "56aa0689",
   "metadata": {},
   "source": [
    "#### La fréquence d'achats (le nombre de livres par mois) classe d'autant mieux les 3 groupes d'individus définis plus tôt :\n",
    "\n",
    "#### * les moins de 30 ans achètent le même nombre de livrees (jamais plus de 3 livres par mois)\n",
    "#### * les 30-50 ans se démarquent : un quart de ces clients achète plus de 8 livres par mois.\n",
    "#### * les plus de 50 ans ont des habitudes plus variées, mais achètent rarement plus de 5 livres"
   ]
  },
  {
   "cell_type": "code",
   "execution_count": 182,
   "id": "36f81622",
   "metadata": {},
   "outputs": [
    {
     "data": {
      "image/png": "[encoded data removed]",
      "text/plain": [
       "<Figure size 1152x288 with 1 Axes>"
      ]
     },
     "metadata": {},
     "output_type": "display_data"
    }
   ],
   "source": [
    "plt.figure(figsize=(16, 4))\n",
    "sns.boxplot(data=df_freq, y='ventes_mensuelles', x='age', showfliers=False)\n",
    "\n",
    "plt.xticks(rotation=90)\n",
    "plt.title(\"Distribution vente mensuelle par age \",fontsize=15)\n",
    "plt.show()"
   ]
  },
  {
   "cell_type": "code",
   "execution_count": 183,
   "id": "9ccd8bec",
   "metadata": {},
   "outputs": [
    {
     "name": "stdout",
     "output_type": "stream",
     "text": [
      "p-value =  0.5068428647588795\n",
      "H0: Les variables sont indépendantes\n"
     ]
    }
   ],
   "source": [
    "r,p=stats.pearsonr(df_freq[\"age\"], df_freq[\"ventes_mensuelles\"])\n",
    "print('p-value = ' ,p)\n",
    "if p > .05:\n",
    "    print('H0: Les variables sont indépendantes')\n",
    "else:\n",
    "    print('H1: Il y\\'a une dépendance entre les variables')"
   ]
  },
  {
   "cell_type": "markdown",
   "id": "dad0d7f3",
   "metadata": {},
   "source": [
    "#### 3/ Le lien entre l'age et la taille du panier moyen (quantitative)"
   ]
  },
  {
   "cell_type": "code",
   "execution_count": 184,
   "id": "a4e1fd1b",
   "metadata": {},
   "outputs": [],
   "source": [
    "df_without_test[\"date_fixe\"]=df_without_test['date'].dt.date "
   ]
  },
  {
   "cell_type": "code",
   "execution_count": 185,
   "id": "2751fc8e",
   "metadata": {},
   "outputs": [],
   "source": [
    "df_panier=df_without_test.pivot_table(\n",
    "    index=['client_id', 'date_fixe'],values='price',aggfunc='count').reset_index().pivot_table(\n",
    "    index='client_id').reset_index().rename(\n",
    "    columns={'price': 'taille_panier_moyen'})\n",
    "df_panier=df_panier.merge(df_without_test[[\"client_id\",\"classe_age\",\"age\"]].drop_duplicates(),on=\"client_id\",how='left')\n",
    "#df_panier\n",
    "\n"
   ]
  },
  {
   "cell_type": "code",
   "execution_count": 186,
   "id": "c0df8a41",
   "metadata": {},
   "outputs": [
    {
     "name": "stdout",
     "output_type": "stream",
     "text": [
      "coef = -0.175\n",
      "p-value = 0.00000000000000000000000000000000000\n",
      "H1: Il y'a une dépendance entre les variables\n"
     ]
    }
   ],
   "source": [
    "r,p=stats.pearsonr(df_panier[\"age\"], df_panier[\"taille_panier_moyen\"])\n",
    "print('coef = %.3f\\np-value = %.35f' % (r, p))\n",
    "if p > .05:\n",
    "    print('H0: Les variables sont indépendantes')\n",
    "else:\n",
    "    print('H1: Il y\\'a une dépendance entre les variables')"
   ]
  },
  {
   "cell_type": "markdown",
   "id": "c5c32dc5",
   "metadata": {},
   "source": [
    "#### La taille du panier moyen suit la même logique :\n",
    "\n",
    "#### * les moins de 30 ans comptent en moyenne moins de 2 livres par panier\n",
    "#### * les 30-50 ans achètent 2 à 3 livres par commande\n",
    "#### * les habitudes sont aléatoires chez les plus de 50 ans"
   ]
  },
  {
   "cell_type": "code",
   "execution_count": 187,
   "id": "493c1ee7",
   "metadata": {},
   "outputs": [
    {
     "data": {
      "image/png": "[encoded data removed]",
      "text/plain": [
       "<Figure size 1152x288 with 1 Axes>"
      ]
     },
     "metadata": {},
     "output_type": "display_data"
    }
   ],
   "source": [
    "plt.figure(figsize=(16, 4))\n",
    "sns.boxplot(data=df_panier, \n",
    "            y='taille_panier_moyen', x='age', \n",
    "            showfliers=False, showmeans=True)\n",
    "plt.xticks(rotation=90)\n",
    "plt.show()"
   ]
  },
  {
   "cell_type": "markdown",
   "id": "e4068e5c",
   "metadata": {},
   "source": [
    "# Catégorie et age(qualitative/quantitative)\n",
    "#### Catégorie et âge (ANOVA)\n",
    "#### L'analyse de la variance est utile pour vérifier la corrélation entre une qualitative et une quantitative.\n",
    "\n",
    "#### Avant de faire une ANOVA, on affiche la moyenne des âge dans chaque catégorie. La catégorie 2 se détache, mais les catégories 0 et 1 ont des moyennes assez proches : le test va permettre de vérifier si leur distance est significative."
   ]
  },
  {
   "cell_type": "code",
   "execution_count": 188,
   "id": "a5139790",
   "metadata": {},
   "outputs": [
    {
     "data": {
      "image/png": "[encoded data removed]",
      "text/plain": [
       "<Figure size 720x432 with 1 Axes>"
      ]
     },
     "metadata": {},
     "output_type": "display_data"
    }
   ],
   "source": [
    "plt.figure(figsize=(10, 6))\n",
    "sns.boxplot(data=df_without_test, x='age', y='categ', orient='h', showfliers=False, showmeans=True)\n",
    "plt.title('Distribution des âges par catégorie',fontsize=15)\n",
    "plt.show()"
   ]
  },
  {
   "cell_type": "code",
   "execution_count": 189,
   "id": "660cbc06",
   "metadata": {},
   "outputs": [
    {
     "data": {
      "text/plain": [
       "categ\n",
       "0.0    43.897616\n",
       "1.0    47.651238\n",
       "2.0    25.948031\n",
       "Name: age, dtype: float64"
      ]
     },
     "execution_count": 189,
     "metadata": {},
     "output_type": "execute_result"
    }
   ],
   "source": [
    "# Moyenne des prix par catégorie\n",
    "df_without_test.groupby('categ').mean()['age']\n"
   ]
  },
  {
   "cell_type": "code",
   "execution_count": 190,
   "id": "b8c900b6",
   "metadata": {},
   "outputs": [
    {
     "name": "stdout",
     "output_type": "stream",
     "text": [
      "ANOVA\n",
      "p-value : 2.253206208849204e-13 \n",
      "stat (F) : 54.06630460096735\n",
      "H1: Une ou plusieurs moyennes sont differentes.\n",
      "\n",
      "Conditions :\n",
      "1. Normalité des résidus\n",
      "2. Homoscédasticité (si les variances sont egales )\n"
     ]
    }
   ],
   "source": [
    "import statsmodels.api as sm\n",
    "import statsmodels.formula.api as smf\n",
    "from statsmodels.formula.api import ols\n",
    "\n",
    "# Test d'ANOVA\n",
    "sample_df = df_without_test.sample(5000)\n",
    "model = smf.ols('age ~ categ', data=sample_df).fit()\n",
    "anova_table = sm.stats.anova_lm(model, typ=2)\n",
    "p = anova_table['PR(>F)'][0]\n",
    "print('ANOVA\\np-value :', p, '\\nstat (F) :', anova_table['F'][0])\n",
    "if p > 0.05:\n",
    "    print('H0: Les moyennes des echantillons sont égales.')\n",
    "else:\n",
    "    print('H1: Une ou plusieurs moyennes sont differentes.'\n",
    "         '\\n\\nConditions :'\n",
    "         '\\n1. Normalité des résidus\\n2. Homoscédasticité (si les variances sont egales )')"
   ]
  },
  {
   "cell_type": "markdown",
   "id": "568eb476",
   "metadata": {},
   "source": [
    "#### Mais la distribution des résidus n'est pas normale."
   ]
  },
  {
   "cell_type": "code",
   "execution_count": 191,
   "id": "26819a89",
   "metadata": {},
   "outputs": [
    {
     "name": "stdout",
     "output_type": "stream",
     "text": [
      "Normalité des résidus (Shapiro)\n",
      "\n",
      "p-value : 1.9424304761391634e-31\n",
      "H0 rejetée : distribution probablement pas normale\n"
     ]
    },
    {
     "data": {
      "image/png": "[encoded data removed]",
      "text/plain": [
       "<Figure size 432x288 with 1 Axes>"
      ]
     },
     "metadata": {},
     "output_type": "display_data"
    }
   ],
   "source": [
    "from statsmodels.graphics.gofplots import qqplot\n",
    "from scipy import stats\n",
    "from scipy.stats import shapiro\n",
    "\n",
    "# Test de Shapiro sur les résidus\n",
    "print('Normalité des résidus (Shapiro)')\n",
    "print('\\np-value :', stats.shapiro(model.resid)[1])\n",
    "if p>.05:\n",
    "    print('H0 acceptée : distribution normale')\n",
    "else:\n",
    "    print('H0 rejetée : distribution probablement pas normale')\n",
    "qqplot(model.resid, line='s')\n",
    "plt.show()"
   ]
  },
  {
   "cell_type": "markdown",
   "id": "dc782d07",
   "metadata": {},
   "source": [
    "#### Après un transformé boxcox les résidus sont considérés comme normaux : la première condition de l'ANOVA est remplie."
   ]
  },
  {
   "cell_type": "code",
   "execution_count": 192,
   "id": "3f4c49ce",
   "metadata": {},
   "outputs": [
    {
     "name": "stdout",
     "output_type": "stream",
     "text": [
      "Normalité des résidus après boxcox :\n",
      "stats : nan \n",
      "p-value : 1.0\n",
      "H0 acceptée : distribution normale\n"
     ]
    },
    {
     "data": {
      "image/png": "[encoded data removed]",
      "text/plain": [
       "<Figure size 432x288 with 1 Axes>"
      ]
     },
     "metadata": {},
     "output_type": "display_data"
    }
   ],
   "source": [
    "from scipy.special import boxcox1p\n",
    "# Test de Shapiro sur les résidus après boxcox\n",
    "residus = boxcox1p(model.resid, 1)\n",
    "p = stats.shapiro(residus)[1]\n",
    "print('Normalité des résidus après boxcox :'\n",
    "    '\\nstats :', stats.shapiro(residus)[0],\n",
    "    '\\np-value :', p)\n",
    "if p>.05:\n",
    "    print('H0 acceptée : distribution normale')\n",
    "else:\n",
    "    print('H0 rejetée : distribution probablement pas normale')\n",
    "qqplot(residus, line='s')\n",
    "plt.show()"
   ]
  },
  {
   "cell_type": "markdown",
   "id": "943888e8",
   "metadata": {},
   "source": [
    "#### Reste à tester l'homoscédasticité des résidus, pour s'assurer que les variances sont égales. Le test de Levene n'est pas concluant. Dans le cas où la condition d'homoscédasticité n'est pas remplie, on peut utiliser Welch ANOVA : ce test valide ici la corrélation entre l'age et catégorie."
   ]
  },
  {
   "cell_type": "code",
   "execution_count": 193,
   "id": "969f09ec",
   "metadata": {},
   "outputs": [
    {
     "name": "stdout",
     "output_type": "stream",
     "text": [
      "Condition 2 : homoscédasticité (Levene) \n",
      "stats : 705.14616105245 \n",
      "p-value : 2.8965747990604627e-290\n",
      "H1: les variances ne sont pas égales (essayer Welch ANOVA)\n"
     ]
    }
   ],
   "source": [
    "# Test de Levene sur les 3 catégories\n",
    "samples = 4000\n",
    "a = df_without_test[df_without_test['categ']==0]['age'].sample(samples).values\n",
    "b = df_without_test[df_without_test['categ']==1]['age'].sample(samples).values\n",
    "c = df_without_test[df_without_test['categ']==2]['age'].sample(samples).values\n",
    "stat, p = stats.levene(a, b, c)\n",
    "print('Condition 2 : homoscédasticité (Levene)',\n",
    "    '\\nstats :', stat,\n",
    "    '\\np-value :', p)\n",
    "if p > 0.05:\n",
    "    print('H0: les variances sont égales')\n",
    "else:\n",
    "    print('H1: les variances ne sont pas égales (essayer Welch ANOVA)')\n"
   ]
  },
  {
   "cell_type": "markdown",
   "id": "0d2ea86c",
   "metadata": {},
   "source": [
    "\n",
    "#### Qu'est-ce que l'ANOVA de Welch ?\n",
    "#### L'ANOVA de Welch compare deux moyennes pour voir si elles sont égales. Il s'agit d'une alternative à l' ANOVA classique et peut être utilisée même si vos données violent l'hypothèse d' homogénéité des variances ."
   ]
  },
  {
   "cell_type": "code",
   "execution_count": 194,
   "id": "59fe9660",
   "metadata": {},
   "outputs": [
    {
     "name": "stdout",
     "output_type": "stream",
     "text": [
      "Test de Welch (si absence d'homoscédasticité)\n",
      "\n",
      "p-value : 0.0 \n",
      "stat : 230.17379053719353\n",
      "H1: une ou plus des moyennes des échantillons sont inégales\n"
     ]
    }
   ],
   "source": [
    "# Test de Welch entre variable  qualitative et quantitative\n",
    "\n",
    "stat, p = stats.ttest_ind(sample_df['age'], sample_df['categ'])\n",
    "print('Test de Welch (si absence d\\'homoscédasticité)\\n')\n",
    "print('p-value :', p, '\\nstat :', stat)\n",
    "if p > 0.05:\n",
    "    print('H0: les moyennes des échantillons sont égales')\n",
    "else:\n",
    "    print('H1: une ou plus des moyennes des échantillons sont inégales')"
   ]
  },
  {
   "cell_type": "markdown",
   "id": "2a5dce80",
   "metadata": {},
   "source": [
    "### la categorie et l'age ont une correlation "
   ]
  },
  {
   "cell_type": "markdown",
   "id": "f92836da",
   "metadata": {},
   "source": [
    "# Catégorie et sexe  (qualitative)--> Khi²\n",
    "### Le test d'indépendance du χ² mesure la corrélation entre 2 variables qualitatives."
   ]
  },
  {
   "cell_type": "code",
   "execution_count": 195,
   "id": "41265c89",
   "metadata": {},
   "outputs": [
    {
     "name": "stdout",
     "output_type": "stream",
     "text": [
      "Table de contingence :\n",
      "sex         f       m\n",
      "categ                \n",
      "0.0    206220  209460\n",
      "1.0    114899  112270\n",
      "2.0     17283   19200\n"
     ]
    }
   ],
   "source": [
    "# Table de contingence\n",
    "crosstab = pd.crosstab(df_without_test['categ'], df_without_test['sex'], margins=False)\n",
    "print('Table de contingence :')\n",
    "print(crosstab)\n",
    "#import researchpy as rp\n"
   ]
  },
  {
   "cell_type": "code",
   "execution_count": 196,
   "id": "c8f8d9df",
   "metadata": {},
   "outputs": [
    {
     "data": {
      "image/png": "[encoded data removed]",
      "text/plain": [
       "<Figure size 432x288 with 2 Axes>"
      ]
     },
     "metadata": {},
     "output_type": "display_data"
    }
   ],
   "source": [
    "sns.heatmap(crosstab)\n",
    "plt.title('Heatmap entre le sexe et la catégorie')\n",
    "plt.show()"
   ]
  },
  {
   "cell_type": "code",
   "execution_count": 197,
   "id": "42b43d7c",
   "metadata": {},
   "outputs": [
    {
     "name": "stdout",
     "output_type": "stream",
     "text": [
      "Test de Chi 2 (2 variables catégorielles)\n",
      "p-value = 0.59127502640245666043483652174472809\n",
      "H0: Les deux observations sont indépendantes\n"
     ]
    }
   ],
   "source": [
    "# Test de Chi 2\n",
    "sample_df = df_without_test.sample(1500)\n",
    "table = pd.crosstab(sample_df['categ'], sample_df['sex'], margins=False)\n",
    "p = stats.chi2_contingency(table)[1]\n",
    "print('Test de Chi 2 (2 variables catégorielles)')\n",
    "print('p-value = %.35f' % ( p))\n",
    "if p > .05:\n",
    "    print('H0: Les deux observations sont indépendantes')\n",
    "else:\n",
    "    print('H1: il y a une dépendance entre les échantillons ')"
   ]
  },
  {
   "cell_type": "code",
   "execution_count": null,
   "id": "3d1e65ee",
   "metadata": {},
   "outputs": [],
   "source": []
  },
  {
   "cell_type": "code",
   "execution_count": null,
   "id": "62998834",
   "metadata": {},
   "outputs": [],
   "source": []
  }
 ],
 "metadata": {
  "kernelspec": {
   "display_name": "Python 3 (ipykernel)",
   "language": "python",
   "name": "python3"
  },
  "language_info": {
   "codemirror_mode": {
    "name": "ipython",
    "version": 3
   },
   "file_extension": ".py",
   "mimetype": "text/x-python",
   "name": "python",
   "nbconvert_exporter": "python",
   "pygments_lexer": "ipython3",
   "version": "3.8.2"
  }
 },
 "nbformat": 4,
 "nbformat_minor": 5
}
